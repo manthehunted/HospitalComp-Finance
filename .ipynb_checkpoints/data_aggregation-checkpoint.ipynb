{
 "cells": [
  {
   "cell_type": "code",
   "execution_count": 1,
   "metadata": {
    "collapsed": false
   },
   "outputs": [
    {
     "name": "stdout",
     "output_type": "stream",
     "text": [
      "Using matplotlib backend: MacOSX\n",
      "Populating the interactive namespace from numpy and matplotlib\n"
     ]
    }
   ],
   "source": [
    "import pandas as pd\n",
    "import numpy as np\n",
    "import re\n",
    "from scipy import stats\n",
    "from collections import Counter\n",
    "%pylab "
   ]
  },
  {
   "cell_type": "markdown",
   "metadata": {},
   "source": [
    "# Conversion: full state name to abbreviation "
   ]
  },
  {
   "cell_type": "code",
   "execution_count": 2,
   "metadata": {
    "collapsed": false
   },
   "outputs": [
    {
     "data": {
      "text/html": [
       "<div style=\"max-height:1000px;max-width:1500px;overflow:auto;\">\n",
       "<table border=\"1\" class=\"dataframe\">\n",
       "  <thead>\n",
       "    <tr style=\"text-align: right;\">\n",
       "      <th></th>\n",
       "      <th>state</th>\n",
       "    </tr>\n",
       "  </thead>\n",
       "  <tbody>\n",
       "    <tr>\n",
       "      <th>Alabama</th>\n",
       "      <td>AL</td>\n",
       "    </tr>\n",
       "    <tr>\n",
       "      <th>Montana</th>\n",
       "      <td>MT</td>\n",
       "    </tr>\n",
       "    <tr>\n",
       "      <th>Alaska</th>\n",
       "      <td>AK</td>\n",
       "    </tr>\n",
       "    <tr>\n",
       "      <th>Nebraska</th>\n",
       "      <td>NE</td>\n",
       "    </tr>\n",
       "    <tr>\n",
       "      <th>Arizona</th>\n",
       "      <td>AZ</td>\n",
       "    </tr>\n",
       "  </tbody>\n",
       "</table>\n",
       "</div>"
      ],
      "text/plain": [
       "         state\n",
       "Alabama     AL\n",
       "Montana     MT\n",
       "Alaska      AK\n",
       "Nebraska    NE\n",
       "Arizona     AZ"
      ]
     },
     "execution_count": 2,
     "metadata": {},
     "output_type": "execute_result"
    }
   ],
   "source": [
    "state_abb = pd.read_csv('./data/state_abb.txt', sep = '\\t',)\n",
    "state_abb = state_abb.drop('abb', axis = 1)\n",
    "state_abb.head()\n",
    "# state_abb.reindex(index = np.arange(state_abb.shape[0]))"
   ]
  },
  {
   "cell_type": "markdown",
   "metadata": {},
   "source": [
    "# COG_2012_LGF002: Local Gov Finance"
   ]
  },
  {
   "cell_type": "code",
   "execution_count": 3,
   "metadata": {
    "collapsed": true
   },
   "outputs": [],
   "source": [
    "cog = pd.read_csv('./data/COG_2012_LGF002/COG_2012_LGF002_metadata.csv')"
   ]
  },
  {
   "cell_type": "code",
   "execution_count": 4,
   "metadata": {
    "collapsed": true
   },
   "outputs": [],
   "source": [
    "pattern_health = re.compile(r'(medical|health)',re.IGNORECASE)\n",
    "pattern_county = re.compile(r'(county)',re.IGNORECASE)\n",
    "pattern_insurance = re.compile(r'(insurance)', re.IGNORECASE)"
   ]
  },
  {
   "cell_type": "code",
   "execution_count": 5,
   "metadata": {
    "collapsed": false
   },
   "outputs": [
    {
     "name": "stdout",
     "output_type": "stream",
     "text": [
      "COUNTY GOVERNMENT AMOUNT; Expenditure - Direct expenditure by function - Direct general expenditure - Social services and income maintenance: - Health\n",
      "MUNICIPAL GOVERNMENT AMOUNT; Expenditure - Direct expenditure by function - Direct general expenditure - Social services and income maintenance: - Health\n",
      "TOWNSHIP GOVERNMENT AMOUNT; Expenditure - Direct expenditure by function - Direct general expenditure - Social services and income maintenance: - Health\n",
      "SPECIAL DISTRICT GOVERNMENT AMOUNT; Expenditure - Direct expenditure by function - Direct general expenditure - Social services and income maintenance: - Health\n",
      "SCHOOL DISTRICT GOVERNMENT AMOUNT; Expenditure - Direct expenditure by function - Direct general expenditure - Social services and income maintenance: - Health\n"
     ]
    }
   ],
   "source": [
    "colnames_health_related = []\n",
    "for i in cog['Id']:\n",
    "    if pattern_health.search(i):\n",
    "        print i\n",
    "        colnames_health_related.append(i)"
   ]
  },
  {
   "cell_type": "code",
   "execution_count": 6,
   "metadata": {
    "collapsed": false
   },
   "outputs": [
    {
     "name": "stdout",
     "output_type": "stream",
     "text": [
      "COUNTY GOVERNMENT AMOUNT; Revenue\n",
      "COUNTY GOVERNMENT AMOUNT; Revenue - General revenue\n",
      "COUNTY GOVERNMENT AMOUNT; Revenue - General revenue - Intergovernmental revenue\n",
      "COUNTY GOVERNMENT AMOUNT; Revenue - General revenue - Intergovernmental revenue - From Federal\n",
      "COUNTY GOVERNMENT AMOUNT; Revenue - General revenue - Intergovernmental revenue - From State\n",
      "COUNTY GOVERNMENT AMOUNT; Revenue - General revenue - Intergovernmental revenue - From Local\n",
      "COUNTY GOVERNMENT AMOUNT; Revenue - General revenue - General revenue from own sources\n",
      "COUNTY GOVERNMENT AMOUNT; Revenue - General revenue - General revenue from own sources - Taxes\n",
      "COUNTY GOVERNMENT AMOUNT; Revenue - General revenue - General revenue from own sources - Taxes - Property\n",
      "COUNTY GOVERNMENT AMOUNT; Revenue - General revenue - General revenue from own sources - Taxes - Sales and gross receipts\n",
      "COUNTY GOVERNMENT AMOUNT; Revenue - General revenue - General revenue from own sources - Taxes - Sales and gross receipts - General sales\n",
      "COUNTY GOVERNMENT AMOUNT; Revenue - General revenue - General revenue from own sources - Taxes - Sales and gross receipts - Selective sales\n",
      "COUNTY GOVERNMENT AMOUNT; Revenue - General revenue - General revenue from own sources - Taxes - Sales and gross receipts - Selective sales - Motor fuel\n",
      "COUNTY GOVERNMENT AMOUNT; Revenue - General revenue - General revenue from own sources - Taxes - Sales and gross receipts - Selective sales - Alcoholic beverage\n",
      "COUNTY GOVERNMENT AMOUNT; Revenue - General revenue - General revenue from own sources - Taxes - Sales and gross receipts - Selective sales - Tobacco products\n",
      "COUNTY GOVERNMENT AMOUNT; Revenue - General revenue - General revenue from own sources - Taxes - Sales and gross receipts - Selective sales - Public utilities\n",
      "COUNTY GOVERNMENT AMOUNT; Revenue - General revenue - General revenue from own sources - Taxes - Sales and gross receipts - Selective sales - Other selective sales\n",
      "COUNTY GOVERNMENT AMOUNT; Revenue - General revenue - General revenue from own sources - Taxes - Individual income\n",
      "COUNTY GOVERNMENT AMOUNT; Revenue - General revenue - General revenue from own sources - Taxes - Corporate income\n",
      "COUNTY GOVERNMENT AMOUNT; Revenue - General revenue - General revenue from own sources - Taxes - Motor vehicle license\n",
      "COUNTY GOVERNMENT AMOUNT; Revenue - General revenue - General revenue from own sources - Taxes - All other taxes\n",
      "COUNTY GOVERNMENT AMOUNT; Revenue - General revenue - General revenue from own sources - Charges and miscellaneous general revenue\n",
      "COUNTY GOVERNMENT AMOUNT; Revenue - General revenue - General revenue from own sources - Charges and miscellaneous general revenue - Current charges\n",
      "COUNTY GOVERNMENT AMOUNT; Revenue - General revenue - General revenue from own sources - Charges and miscellaneous general revenue - Current charges - Education\n",
      "COUNTY GOVERNMENT AMOUNT; Revenue - General revenue - General revenue from own sources - Charges and miscellaneous general revenue - Current charges - Education - Insitutions of higher education\n",
      "COUNTY GOVERNMENT AMOUNT; Revenue - General revenue - General revenue from own sources - Charges and miscellaneous general revenue - Current charges - Education - School lunch sales (gross)\n",
      "COUNTY GOVERNMENT AMOUNT; Revenue - General revenue - General revenue from own sources - Charges and miscellaneous general revenue - Current charges - Hospitals\n",
      "COUNTY GOVERNMENT AMOUNT; Revenue - General revenue - General revenue from own sources - Charges and miscellaneous general revenue - Current charges - Highways\n",
      "COUNTY GOVERNMENT AMOUNT; Revenue - General revenue - General revenue from own sources - Charges and miscellaneous general revenue - Current charges - Air transportation (airports)\n",
      "COUNTY GOVERNMENT AMOUNT; Revenue - General revenue - General revenue from own sources - Charges and miscellaneous general revenue - Current charges - Parking facilities\n",
      "COUNTY GOVERNMENT AMOUNT; Revenue - General revenue - General revenue from own sources - Charges and miscellaneous general revenue - Current charges - Sea and inland port facilities\n",
      "COUNTY GOVERNMENT AMOUNT; Revenue - General revenue - General revenue from own sources - Charges and miscellaneous general revenue - Current charges - Natural resources\n",
      "COUNTY GOVERNMENT AMOUNT; Revenue - General revenue - General revenue from own sources - Charges and miscellaneous general revenue - Current charges - Parks and recreation\n",
      "COUNTY GOVERNMENT AMOUNT; Revenue - General revenue - General revenue from own sources - Charges and miscellaneous general revenue - Current charges - Housing and community development\n",
      "COUNTY GOVERNMENT AMOUNT; Revenue - General revenue - General revenue from own sources - Charges and miscellaneous general revenue - Current charges - Sewerage\n",
      "COUNTY GOVERNMENT AMOUNT; Revenue - General revenue - General revenue from own sources - Charges and miscellaneous general revenue - Current charges - Solid waste management\n",
      "COUNTY GOVERNMENT AMOUNT; Revenue - General revenue - General revenue from own sources - Charges and miscellaneous general revenue - Current charges - Other charges\n",
      "COUNTY GOVERNMENT AMOUNT; Revenue - General revenue - General revenue from own sources - Charges and miscellaneous general revenue - Miscellaneous general revenue\n",
      "COUNTY GOVERNMENT AMOUNT; Revenue - General revenue - General revenue from own sources - Charges and miscellaneous general revenue - Miscellaneous general revenue - Interest earnings\n",
      "COUNTY GOVERNMENT AMOUNT; Revenue - General revenue - General revenue from own sources - Charges and miscellaneous general revenue - Miscellaneous general revenue - Special assessments\n",
      "COUNTY GOVERNMENT AMOUNT; Revenue - General revenue - General revenue from own sources - Charges and miscellaneous general revenue - Miscellaneous general revenue - Sale of property\n",
      "COUNTY GOVERNMENT AMOUNT; Revenue - General revenue - General revenue from own sources - Charges and miscellaneous general revenue - Miscellaneous general revenue - Other general revenue\n",
      "COUNTY GOVERNMENT AMOUNT; Revenue - Utility revenue\n",
      "COUNTY GOVERNMENT AMOUNT; Revenue - Utility revenue - Water supply\n",
      "COUNTY GOVERNMENT AMOUNT; Revenue - Utility revenue - Electric power\n",
      "COUNTY GOVERNMENT AMOUNT; Revenue - Utility revenue - Gas supply\n",
      "COUNTY GOVERNMENT AMOUNT; Revenue - Utility revenue - Transit\n",
      "COUNTY GOVERNMENT AMOUNT; Revenue - Liquor store revenue\n",
      "COUNTY GOVERNMENT AMOUNT; Revenue - Insurance trust revenue (1)\n",
      "COUNTY GOVERNMENT AMOUNT; Revenue - Insurance trust revenue (1) - Unemployment compensation\n",
      "COUNTY GOVERNMENT AMOUNT; Revenue - Insurance trust revenue (1) - Employee retirement\n",
      "COUNTY GOVERNMENT AMOUNT; Revenue - Insurance trust revenue (1) - Workers'compensation\n",
      "COUNTY GOVERNMENT AMOUNT; Revenue - Insurance trust revenue (1) - Other insurance trust revenue\n",
      "COUNTY GOVERNMENT AMOUNT; Expenditure\n",
      "COUNTY GOVERNMENT AMOUNT; Expenditure - By character and object: - Intergovernmental expenditure\n",
      "COUNTY GOVERNMENT AMOUNT; Expenditure - By character and object: - Direct expenditure\n",
      "COUNTY GOVERNMENT AMOUNT; Expenditure - By character and object: - Direct expenditure - Current operations\n",
      "COUNTY GOVERNMENT AMOUNT; Expenditure - By character and object: - Direct expenditure - Capital outlay\n",
      "COUNTY GOVERNMENT AMOUNT; Expenditure - By character and object: - Direct expenditure - Capital outlay - Construction\n",
      "COUNTY GOVERNMENT AMOUNT; Expenditure - By character and object: - Direct expenditure - Capital outlay - Other capital outlay\n",
      "COUNTY GOVERNMENT AMOUNT; Expenditure - By character and object: - Direct expenditure - Assistance and subsidies\n",
      "COUNTY GOVERNMENT AMOUNT; Expenditure - By character and object: - Direct expenditure - Interest on debt\n",
      "COUNTY GOVERNMENT AMOUNT; Expenditure - By character and object: - Direct expenditure - Insurance benefits and repayments\n",
      "COUNTY GOVERNMENT AMOUNT; Expenditure - By character and object: - Direct expenditure - Exhibit: Salaries and wages\n",
      "COUNTY GOVERNMENT AMOUNT; Expenditure - Direct expenditure by function\n",
      "COUNTY GOVERNMENT AMOUNT; Expenditure - Direct expenditure by function - Direct general expenditure\n",
      "COUNTY GOVERNMENT AMOUNT; Expenditure - Direct expenditure by function - Direct general expenditure - Capital outlay\n",
      "COUNTY GOVERNMENT AMOUNT; Expenditure - Direct expenditure by function - Direct general expenditure - Other direct general expenditure\n",
      "COUNTY GOVERNMENT AMOUNT; Expenditure - Direct expenditure by function - Direct general expenditure - Education services: - Education\n",
      "COUNTY GOVERNMENT AMOUNT; Expenditure - Direct expenditure by function - Direct general expenditure - Education services: - Education - Capital outlay - education\n",
      "COUNTY GOVERNMENT AMOUNT; Expenditure - Direct expenditure by function - Direct general expenditure - Education services: - Higher education\n",
      "COUNTY GOVERNMENT AMOUNT; Expenditure - Direct expenditure by function - Direct general expenditure - Education services: - Higher education - Capital outlay\n",
      "COUNTY GOVERNMENT AMOUNT; Expenditure - Direct expenditure by function - Direct general expenditure - Education services: - Elementary & secondary\n",
      "COUNTY GOVERNMENT AMOUNT; Expenditure - Direct expenditure by function - Direct general expenditure - Education services: - Elementary & secondary - Capital outlay\n",
      "COUNTY GOVERNMENT AMOUNT; Expenditure - Direct expenditure by function - Direct general expenditure - Education services: - Other education\n",
      "COUNTY GOVERNMENT AMOUNT; Expenditure - Direct expenditure by function - Direct general expenditure - Education services: - Libraries\n",
      "COUNTY GOVERNMENT AMOUNT; Expenditure - Direct expenditure by function - Direct general expenditure - Social services and income maintenance: - Public welfare\n",
      "COUNTY GOVERNMENT AMOUNT; Expenditure - Direct expenditure by function - Direct general expenditure - Social services and income maintenance: - Public welfare - Cash assistance payments\n",
      "COUNTY GOVERNMENT AMOUNT; Expenditure - Direct expenditure by function - Direct general expenditure - Social services and income maintenance: - Public welfare - Vendor payments\n",
      "COUNTY GOVERNMENT AMOUNT; Expenditure - Direct expenditure by function - Direct general expenditure - Social services and income maintenance: - Public welfare - Other public welfare\n",
      "COUNTY GOVERNMENT AMOUNT; Expenditure - Direct expenditure by function - Direct general expenditure - Social services and income maintenance: - Hospitals\n",
      "COUNTY GOVERNMENT AMOUNT; Expenditure - Direct expenditure by function - Direct general expenditure - Social services and income maintenance: - Hospitals - Capital outlay\n",
      "COUNTY GOVERNMENT AMOUNT; Expenditure - Direct expenditure by function - Direct general expenditure - Social services and income maintenance: - Health\n",
      "COUNTY GOVERNMENT AMOUNT; Expenditure - Direct expenditure by function - Direct general expenditure - Social services and income maintenance: - Employment security administration\n",
      "COUNTY GOVERNMENT AMOUNT; Expenditure - Direct expenditure by function - Direct general expenditure - Social services and income maintenance: - Veterans' services\n",
      "COUNTY GOVERNMENT AMOUNT; Expenditure - Direct expenditure by function - Direct general expenditure - Transportation: - Highways\n",
      "COUNTY GOVERNMENT AMOUNT; Expenditure - Direct expenditure by function - Direct general expenditure - Transportation: - Highways - Capital outlay\n",
      "COUNTY GOVERNMENT AMOUNT; Expenditure - Direct expenditure by function - Direct general expenditure - Transportation: - Air transportation (airports)\n",
      "COUNTY GOVERNMENT AMOUNT; Expenditure - Direct expenditure by function - Direct general expenditure - Transportation: - Parking facilities\n",
      "COUNTY GOVERNMENT AMOUNT; Expenditure - Direct expenditure by function - Direct general expenditure - Transportation: - Sea and inland port facilities\n",
      "COUNTY GOVERNMENT AMOUNT; Expenditure - Direct expenditure by function - Direct general expenditure - Public safety: - Police protection\n",
      "COUNTY GOVERNMENT AMOUNT; Expenditure - Direct expenditure by function - Direct general expenditure - Public safety: - Fire protection\n",
      "COUNTY GOVERNMENT AMOUNT; Expenditure - Direct expenditure by function - Direct general expenditure - Public safety: - Correction\n",
      "COUNTY GOVERNMENT AMOUNT; Expenditure - Direct expenditure by function - Direct general expenditure - Public safety: - Correction - Capital outlay\n",
      "COUNTY GOVERNMENT AMOUNT; Expenditure - Direct expenditure by function - Direct general expenditure - Public safety: - Protective inspection and regulation\n",
      "COUNTY GOVERNMENT AMOUNT; Expenditure - Direct expenditure by function - Direct general expenditure - Enviroment and housing: - Natural resources\n",
      "COUNTY GOVERNMENT AMOUNT; Expenditure - Direct expenditure by function - Direct general expenditure - Enviroment and housing: - Natural resources - Capital outlay\n",
      "COUNTY GOVERNMENT AMOUNT; Expenditure - Direct expenditure by function - Direct general expenditure - Enviroment and housing: - Parks and recreation\n",
      "COUNTY GOVERNMENT AMOUNT; Expenditure - Direct expenditure by function - Direct general expenditure - Enviroment and housing: - Parks and recreation - Capital outlay\n",
      "COUNTY GOVERNMENT AMOUNT; Expenditure - Direct expenditure by function - Direct general expenditure - Enviroment and housing: - Housing and community development\n",
      "COUNTY GOVERNMENT AMOUNT; Expenditure - Direct expenditure by function - Direct general expenditure - Enviroment and housing: - Sewerage\n",
      "COUNTY GOVERNMENT AMOUNT; Expenditure - Direct expenditure by function - Direct general expenditure - Enviroment and housing: - Sewerage - Capital outlay\n",
      "COUNTY GOVERNMENT AMOUNT; Expenditure - Direct expenditure by function - Direct general expenditure - Enviroment and housing: - Solid waste management\n",
      "COUNTY GOVERNMENT AMOUNT; Expenditure - Direct expenditure by function - Direct general expenditure - Enviroment and housing: - Solid waste management - Capital outlay\n",
      "COUNTY GOVERNMENT AMOUNT; Expenditure - Direct expenditure by function - Direct general expenditure - Governmental administration: - Financial administration\n",
      "COUNTY GOVERNMENT AMOUNT; Expenditure - Direct expenditure by function - Direct general expenditure - Governmental administration: - Judicial and legal\n",
      "COUNTY GOVERNMENT AMOUNT; Expenditure - Direct expenditure by function - Direct general expenditure - Governmental administration: - General public buildings\n",
      "COUNTY GOVERNMENT AMOUNT; Expenditure - Direct expenditure by function - Direct general expenditure - Governmental administration: - Other governmental administration\n",
      "COUNTY GOVERNMENT AMOUNT; Expenditure - Direct expenditure by function - Direct general expenditure - Interest on general debt\n",
      "COUNTY GOVERNMENT AMOUNT; Expenditure - Direct expenditure by function - Direct general expenditure - General expenditure, n.e.c.: - Miscellaneous commercial activities\n",
      "COUNTY GOVERNMENT AMOUNT; Expenditure - Direct expenditure by function - Direct general expenditure - General expenditure, n.e.c.: - Other and unallocable\n",
      "COUNTY GOVERNMENT AMOUNT; Expenditure - Direct expenditure by function - Utility expenditure\n",
      "COUNTY GOVERNMENT AMOUNT; Expenditure - Direct expenditure by function - Utility expenditure - Capital outlay - utility expenditure\n",
      "COUNTY GOVERNMENT AMOUNT; Expenditure - Direct expenditure by function - Utility expenditure - Water supply\n",
      "COUNTY GOVERNMENT AMOUNT; Expenditure - Direct expenditure by function - Utility expenditure - Electric supply\n",
      "COUNTY GOVERNMENT AMOUNT; Expenditure - Direct expenditure by function - Utility expenditure - Gas supply\n",
      "COUNTY GOVERNMENT AMOUNT; Expenditure - Direct expenditure by function - Utility expenditure - Transit\n",
      "COUNTY GOVERNMENT AMOUNT; Expenditure - Direct expenditure by function - Liquor store expenditure\n",
      "COUNTY GOVERNMENT AMOUNT; Expenditure - Direct expenditure by function - Insurance trust expenditure\n",
      "COUNTY GOVERNMENT AMOUNT; Expenditure - Direct expenditure by function - Insurance trust expenditure - Unemployment compensation\n",
      "COUNTY GOVERNMENT AMOUNT; Expenditure - Direct expenditure by function - Insurance trust expenditure - Employee retirement\n",
      "COUNTY GOVERNMENT AMOUNT; Expenditure - Direct expenditure by function - Insurance trust expenditure - Workers' compensation\n",
      "COUNTY GOVERNMENT AMOUNT; Expenditure - Direct expenditure by function - Insurance trust expenditure - Other insurance trust\n",
      "COUNTY GOVERNMENT AMOUNT; Debt outstanding\n",
      "COUNTY GOVERNMENT AMOUNT; Debt outstanding - Short-term\n",
      "COUNTY GOVERNMENT AMOUNT; Debt outstanding - Long-term\n",
      "COUNTY GOVERNMENT AMOUNT; Debt outstanding - Long-term - Public debt for private purposes\n",
      "COUNTY GOVERNMENT AMOUNT; Debt outstanding - Long-term debt issued\n",
      "COUNTY GOVERNMENT AMOUNT; Debt outstanding - Long-term debt retired\n",
      "COUNTY GOVERNMENT AMOUNT; Cash and security holdings\n",
      "COUNTY GOVERNMENT AMOUNT; Cash and security holdings - Insurance trust funds\n",
      "COUNTY GOVERNMENT AMOUNT; Cash and security holdings - Insurance trust funds - Unemployment compensation\n",
      "COUNTY GOVERNMENT AMOUNT; Cash and security holdings - Insurance trust funds - Employee retirement\n",
      "COUNTY GOVERNMENT AMOUNT; Cash and security holdings - Insurance trust funds - Workers'compensation\n",
      "COUNTY GOVERNMENT AMOUNT; Cash and security holdings - Insurance trust funds - Miscellaneous\n",
      "COUNTY GOVERNMENT AMOUNT; Cash and security holdings - Other than insurance trust funds\n",
      "COUNTY GOVERNMENT AMOUNT; Cash and security holdings - Other than insurance trust funds - By purpose: - Offsets to debt\n",
      "COUNTY GOVERNMENT AMOUNT; Cash and security holdings - Other than insurance trust funds - By purpose: - Bond funds\n",
      "COUNTY GOVERNMENT AMOUNT; Cash and security holdings - Other than insurance trust funds - By purpose: - Other\n"
     ]
    }
   ],
   "source": [
    "for i in cog['Id']:\n",
    "    if pattern_county.search(i):\n",
    "        print i"
   ]
  },
  {
   "cell_type": "code",
   "execution_count": 7,
   "metadata": {
    "collapsed": false
   },
   "outputs": [
    {
     "name": "stdout",
     "output_type": "stream",
     "text": [
      "COUNTY GOVERNMENT AMOUNT; Expenditure - Direct expenditure by function - Direct general expenditure - Social services and income maintenance: - Health\n",
      "MUNICIPAL GOVERNMENT AMOUNT; Expenditure - Direct expenditure by function - Direct general expenditure - Social services and income maintenance: - Health\n",
      "TOWNSHIP GOVERNMENT AMOUNT; Expenditure - Direct expenditure by function - Direct general expenditure - Social services and income maintenance: - Health\n",
      "SPECIAL DISTRICT GOVERNMENT AMOUNT; Expenditure - Direct expenditure by function - Direct general expenditure - Social services and income maintenance: - Health\n",
      "SCHOOL DISTRICT GOVERNMENT AMOUNT; Expenditure - Direct expenditure by function - Direct general expenditure - Social services and income maintenance: - Health\n"
     ]
    }
   ],
   "source": [
    "colnames_insurance_related = []\n",
    "for i in cog['Id']:\n",
    "    if pattern_health.search(i):\n",
    "        print i\n",
    "        colnames_insurance_related.append(i)"
   ]
  },
  {
   "cell_type": "code",
   "execution_count": 8,
   "metadata": {
    "collapsed": false
   },
   "outputs": [
    {
     "data": {
      "text/html": [
       "<div style=\"max-height:1000px;max-width:1500px;overflow:auto;\">\n",
       "<table border=\"1\" class=\"dataframe\">\n",
       "  <thead>\n",
       "    <tr style=\"text-align: right;\">\n",
       "      <th></th>\n",
       "      <th>GEO.id</th>\n",
       "      <th>GEO.id2</th>\n",
       "      <th>GEO.display-label</th>\n",
       "      <th>A1_REV</th>\n",
       "      <th>A2_REV</th>\n",
       "      <th>A3_REV</th>\n",
       "      <th>A4_REV</th>\n",
       "      <th>A5_REV</th>\n",
       "      <th>A1_GENREV</th>\n",
       "      <th>A2_GENREV</th>\n",
       "      <th>...</th>\n",
       "      <th>A1_BONDFUN</th>\n",
       "      <th>A2_BONDFUN</th>\n",
       "      <th>A3_BONDFUN</th>\n",
       "      <th>A4_BONDFUN</th>\n",
       "      <th>A5_BONDFUN</th>\n",
       "      <th>A1_OTH</th>\n",
       "      <th>A2_OTH</th>\n",
       "      <th>A3_OTH</th>\n",
       "      <th>A4_OTH</th>\n",
       "      <th>A5_OTH</th>\n",
       "    </tr>\n",
       "  </thead>\n",
       "  <tbody>\n",
       "    <tr>\n",
       "      <th>0</th>\n",
       "      <td>Id</td>\n",
       "      <td>Id2</td>\n",
       "      <td>Geography</td>\n",
       "      <td>COUNTY GOVERNMENT AMOUNT; Revenue</td>\n",
       "      <td>MUNICIPAL GOVERNMENT AMOUNT; Revenue</td>\n",
       "      <td>TOWNSHIP GOVERNMENT AMOUNT; Revenue</td>\n",
       "      <td>SPECIAL DISTRICT GOVERNMENT AMOUNT; Revenue</td>\n",
       "      <td>SCHOOL DISTRICT GOVERNMENT AMOUNT; Revenue</td>\n",
       "      <td>COUNTY GOVERNMENT AMOUNT; Revenue - General re...</td>\n",
       "      <td>MUNICIPAL GOVERNMENT AMOUNT; Revenue - General...</td>\n",
       "      <td>...</td>\n",
       "      <td>COUNTY GOVERNMENT AMOUNT; Cash and security ho...</td>\n",
       "      <td>MUNICIPAL GOVERNMENT AMOUNT; Cash and security...</td>\n",
       "      <td>TOWNSHIP GOVERNMENT AMOUNT; Cash and security ...</td>\n",
       "      <td>SPECIAL DISTRICT GOVERNMENT AMOUNT; Cash and s...</td>\n",
       "      <td>SCHOOL DISTRICT GOVERNMENT AMOUNT; Cash and se...</td>\n",
       "      <td>COUNTY GOVERNMENT AMOUNT; Cash and security ho...</td>\n",
       "      <td>MUNICIPAL GOVERNMENT AMOUNT; Cash and security...</td>\n",
       "      <td>TOWNSHIP GOVERNMENT AMOUNT; Cash and security ...</td>\n",
       "      <td>SPECIAL DISTRICT GOVERNMENT AMOUNT; Cash and s...</td>\n",
       "      <td>SCHOOL DISTRICT GOVERNMENT AMOUNT; Cash and se...</td>\n",
       "    </tr>\n",
       "    <tr>\n",
       "      <th>1</th>\n",
       "      <td>0100000US</td>\n",
       "      <td>NaN</td>\n",
       "      <td>United States</td>\n",
       "      <td>379009735</td>\n",
       "      <td>523780618</td>\n",
       "      <td>50559907</td>\n",
       "      <td>205634230</td>\n",
       "      <td>493950091</td>\n",
       "      <td>368756681</td>\n",
       "      <td>425929734</td>\n",
       "      <td>...</td>\n",
       "      <td>28031874</td>\n",
       "      <td>47330634</td>\n",
       "      <td>3204390</td>\n",
       "      <td>19483825</td>\n",
       "      <td>47990016</td>\n",
       "      <td>142427976</td>\n",
       "      <td>212813075</td>\n",
       "      <td>23034826</td>\n",
       "      <td>128881775</td>\n",
       "      <td>130683987</td>\n",
       "    </tr>\n",
       "    <tr>\n",
       "      <th>2</th>\n",
       "      <td>0400000US01</td>\n",
       "      <td>01</td>\n",
       "      <td>Alabama</td>\n",
       "      <td>2379791</td>\n",
       "      <td>6421415</td>\n",
       "      <td>0</td>\n",
       "      <td>5400630</td>\n",
       "      <td>7135105</td>\n",
       "      <td>2311480</td>\n",
       "      <td>4200678</td>\n",
       "      <td>...</td>\n",
       "      <td>46749</td>\n",
       "      <td>550522</td>\n",
       "      <td>0</td>\n",
       "      <td>147333</td>\n",
       "      <td>909429</td>\n",
       "      <td>1366635</td>\n",
       "      <td>2307849</td>\n",
       "      <td>0</td>\n",
       "      <td>1977920</td>\n",
       "      <td>1170572</td>\n",
       "    </tr>\n",
       "  </tbody>\n",
       "</table>\n",
       "<p>3 rows × 698 columns</p>\n",
       "</div>"
      ],
      "text/plain": [
       "        GEO.id GEO.id2 GEO.display-label                             A1_REV  \\\n",
       "0           Id     Id2         Geography  COUNTY GOVERNMENT AMOUNT; Revenue   \n",
       "1    0100000US     NaN     United States                          379009735   \n",
       "2  0400000US01      01           Alabama                            2379791   \n",
       "\n",
       "                                 A2_REV                               A3_REV  \\\n",
       "0  MUNICIPAL GOVERNMENT AMOUNT; Revenue  TOWNSHIP GOVERNMENT AMOUNT; Revenue   \n",
       "1                             523780618                             50559907   \n",
       "2                               6421415                                    0   \n",
       "\n",
       "                                        A4_REV  \\\n",
       "0  SPECIAL DISTRICT GOVERNMENT AMOUNT; Revenue   \n",
       "1                                    205634230   \n",
       "2                                      5400630   \n",
       "\n",
       "                                       A5_REV  \\\n",
       "0  SCHOOL DISTRICT GOVERNMENT AMOUNT; Revenue   \n",
       "1                                   493950091   \n",
       "2                                     7135105   \n",
       "\n",
       "                                           A1_GENREV  \\\n",
       "0  COUNTY GOVERNMENT AMOUNT; Revenue - General re...   \n",
       "1                                          368756681   \n",
       "2                                            2311480   \n",
       "\n",
       "                                           A2_GENREV  \\\n",
       "0  MUNICIPAL GOVERNMENT AMOUNT; Revenue - General...   \n",
       "1                                          425929734   \n",
       "2                                            4200678   \n",
       "\n",
       "                         ...                          \\\n",
       "0                        ...                           \n",
       "1                        ...                           \n",
       "2                        ...                           \n",
       "\n",
       "                                          A1_BONDFUN  \\\n",
       "0  COUNTY GOVERNMENT AMOUNT; Cash and security ho...   \n",
       "1                                           28031874   \n",
       "2                                              46749   \n",
       "\n",
       "                                          A2_BONDFUN  \\\n",
       "0  MUNICIPAL GOVERNMENT AMOUNT; Cash and security...   \n",
       "1                                           47330634   \n",
       "2                                             550522   \n",
       "\n",
       "                                          A3_BONDFUN  \\\n",
       "0  TOWNSHIP GOVERNMENT AMOUNT; Cash and security ...   \n",
       "1                                            3204390   \n",
       "2                                                  0   \n",
       "\n",
       "                                          A4_BONDFUN  \\\n",
       "0  SPECIAL DISTRICT GOVERNMENT AMOUNT; Cash and s...   \n",
       "1                                           19483825   \n",
       "2                                             147333   \n",
       "\n",
       "                                          A5_BONDFUN  \\\n",
       "0  SCHOOL DISTRICT GOVERNMENT AMOUNT; Cash and se...   \n",
       "1                                           47990016   \n",
       "2                                             909429   \n",
       "\n",
       "                                              A1_OTH  \\\n",
       "0  COUNTY GOVERNMENT AMOUNT; Cash and security ho...   \n",
       "1                                          142427976   \n",
       "2                                            1366635   \n",
       "\n",
       "                                              A2_OTH  \\\n",
       "0  MUNICIPAL GOVERNMENT AMOUNT; Cash and security...   \n",
       "1                                          212813075   \n",
       "2                                            2307849   \n",
       "\n",
       "                                              A3_OTH  \\\n",
       "0  TOWNSHIP GOVERNMENT AMOUNT; Cash and security ...   \n",
       "1                                           23034826   \n",
       "2                                                  0   \n",
       "\n",
       "                                              A4_OTH  \\\n",
       "0  SPECIAL DISTRICT GOVERNMENT AMOUNT; Cash and s...   \n",
       "1                                          128881775   \n",
       "2                                            1977920   \n",
       "\n",
       "                                              A5_OTH  \n",
       "0  SCHOOL DISTRICT GOVERNMENT AMOUNT; Cash and se...  \n",
       "1                                          130683987  \n",
       "2                                            1170572  \n",
       "\n",
       "[3 rows x 698 columns]"
      ]
     },
     "execution_count": 8,
     "metadata": {},
     "output_type": "execute_result"
    }
   ],
   "source": [
    "cog = pd.read_csv('./data/COG_2012_LGF002/COG_2012_LGF002.csv')\n",
    "cog.head(3)"
   ]
  },
  {
   "cell_type": "code",
   "execution_count": 9,
   "metadata": {
    "collapsed": true
   },
   "outputs": [],
   "source": [
    "def cog_get_values(colname, a):\n",
    "    i = list(a.irow(0).values).index(colname)\n",
    "    return a.icol(i)[0:].values"
   ]
  },
  {
   "cell_type": "code",
   "execution_count": 10,
   "metadata": {
    "collapsed": true
   },
   "outputs": [],
   "source": [
    "cog_values = {}\n",
    "state = cog['GEO.display-label'].values[2:]"
   ]
  },
  {
   "cell_type": "code",
   "execution_count": 11,
   "metadata": {
    "collapsed": true
   },
   "outputs": [],
   "source": [
    "pattern2eliminate = re.compile(r'(TOWNSHIP|SPECIAL|SCHOOL)', re.IGNORECASE)"
   ]
  },
  {
   "cell_type": "code",
   "execution_count": 12,
   "metadata": {
    "collapsed": false
   },
   "outputs": [
    {
     "name": "stdout",
     "output_type": "stream",
     "text": [
      "8              Connecticut\n",
      "10    District of Columbia\n",
      "13                  Hawaii\n",
      "31           New Hampshire\n",
      "41            Rhode Island\n",
      "47                 Vermont\n",
      "Name: GEO.display-label, dtype: object\n",
      "Series([], Name: GEO.display-label, dtype: object)\n"
     ]
    }
   ],
   "source": [
    "c = 0\n",
    "for colname in colnames_health_related:\n",
    "    name = colname.split()[0].lower() + '_health_exp'\n",
    "    \n",
    "    if pattern2eliminate.search(name):\n",
    "        continue\n",
    "    \n",
    "    value = cog_get_values(colname, cog)\n",
    "    zero_health = cog['GEO.display-label'][value == '0']\n",
    "    print zero_health\n",
    "#     print name\n",
    "    \n",
    "    pair = zip(state, value[2:])\n",
    "    for k,v in pair:\n",
    "        try:\n",
    "            abb = state_abb.ix[k]['state']\n",
    "            if c == 0:\n",
    "                cog_values[abb] = {}\n",
    "        except KeyError:\n",
    "            abb = 'DC'\n",
    "            if c == 0:\n",
    "                cog_values[abb] = {}\n",
    "                \n",
    "        cog_values[abb][name] = int(v)\n",
    "        \n",
    "    c += 1"
   ]
  },
  {
   "cell_type": "code",
   "execution_count": 13,
   "metadata": {
    "collapsed": false
   },
   "outputs": [],
   "source": [
    "# name = \"COUNTY GOVERNMENT AMOUNT; Expenditure - Direct expenditure by function - Direct general expenditure - Social services and income maintenance: - Health\"\n",
    "# # i = list(a.irow(0).values).index(name)\n",
    "# # # print i\n",
    "# health_expenditure_county = cog_get_values(name, cog)\n",
    "# zero_health = cog['GEO.display-label'][health_expenditure_county == '0']\n",
    "# print zero_health\n",
    "\n",
    "# value = zip(cog['GEO.display-label'].values[2:], health_expenditure_county[2:])\n",
    "\n",
    "# for k,v in value:\n",
    "#     try:\n",
    "#         abb = state_abb.ix[k]['state']\n",
    "#         cog_values[abb] = {}\n",
    "#     except KeyError:\n",
    "#         abb = 'DC'\n",
    "#         cog_values[abb] = {}\n",
    "    \n",
    "#     cog_values[abb]['health_exp'] = int(v)"
   ]
  },
  {
   "cell_type": "code",
   "execution_count": 14,
   "metadata": {
    "collapsed": false
   },
   "outputs": [],
   "source": [
    "# for colname in colnames_insurance_related:\n",
    "#     name = colname.split()[0].lower() + '_insurance_exp'\n",
    "    \n",
    "#     if pattern2eliminate.search(name):\n",
    "#         print name\n",
    "#         continue\n",
    "        \n",
    "#     value = cog_get_values(colname, cog)\n",
    "#     zero_health = cog['GEO.display-label'][value == '0']\n",
    "#     print zero_health\n",
    "#     print \n",
    "    \n",
    "#     pair = zip(state, value[2:])\n",
    "#     for k,v in pair:\n",
    "#         try:\n",
    "#             abb = state_abb.ix[k]['state']\n",
    "\n",
    "#         except KeyError:\n",
    "#             abb = 'DC'\n",
    "\n",
    "\n",
    "#         cog_values[abb][name] = int(v)"
   ]
  },
  {
   "cell_type": "code",
   "execution_count": 15,
   "metadata": {
    "collapsed": false
   },
   "outputs": [],
   "source": [
    "zero_health_abb = []\n",
    "for i in zero_health:\n",
    "    try:\n",
    "        abb = state_abb.ix[i]['state']\n",
    "    except KeyError:\n",
    "        abb = 'DC'\n",
    "    zero_health_abb.append(abb)"
   ]
  },
  {
   "cell_type": "code",
   "execution_count": 16,
   "metadata": {
    "collapsed": false
   },
   "outputs": [],
   "source": [
    "name = \"COUNTY GOVERNMENT AMOUNT; Revenue - General revenue\"\n",
    "value = cog_get_values(name, cog)\n",
    "\n",
    "pair = zip(state, value[2:])\n",
    "\n",
    "for k,v in pair:\n",
    "    try:\n",
    "        abb = state_abb.ix[k]['state']\n",
    "    except KeyError:\n",
    "        abb = 'DC'\n",
    "    \n",
    "    cog_values[abb]['revenue'] = int(v)"
   ]
  },
  {
   "cell_type": "code",
   "execution_count": 17,
   "metadata": {
    "collapsed": false
   },
   "outputs": [],
   "source": [
    "pd_cog = pd.DataFrame.from_dict(cog_values)\n",
    "\n",
    "for i in np.arange(pd_cog.shape[0]):\n",
    "    pd_cog.ix[i, pd_cog.irow(i).isin([0])] = pd_cog.irow(i).mean() + np.random.random()*100\n",
    "    "
   ]
  },
  {
   "cell_type": "code",
   "execution_count": 18,
   "metadata": {
    "collapsed": false
   },
   "outputs": [
    {
     "data": {
      "text/plain": [
       "[<matplotlib.lines.Line2D at 0x10a74b8d0>]"
      ]
     },
     "execution_count": 18,
     "metadata": {},
     "output_type": "execute_result"
    }
   ],
   "source": [
    "plt.plot(pd_cog.irow(0).values,pd_cog.irow(1).values)"
   ]
  },
  {
   "cell_type": "code",
   "execution_count": 19,
   "metadata": {
    "collapsed": false
   },
   "outputs": [],
   "source": [
    "cog_values = pd_cog.to_dict()"
   ]
  },
  {
   "cell_type": "code",
   "execution_count": 20,
   "metadata": {
    "collapsed": false
   },
   "outputs": [],
   "source": [
    "key_cog = cog_values['AK'].keys()"
   ]
  },
  {
   "cell_type": "code",
   "execution_count": 21,
   "metadata": {
    "collapsed": false
   },
   "outputs": [
    {
     "data": {
      "text/plain": [
       "['municipal_health_exp', 'county_health_exp', 'revenue']"
      ]
     },
     "execution_count": 21,
     "metadata": {},
     "output_type": "execute_result"
    }
   ],
   "source": [
    "key_cog"
   ]
  },
  {
   "cell_type": "code",
   "execution_count": 22,
   "metadata": {
    "collapsed": false
   },
   "outputs": [],
   "source": [
    "# i = a['Score'].str.extract('(Not Available)')\n",
    "# value = a['Score'][~(i == 'Not Available')].astype(float)\n",
    "# score_ave = value.mean()\n",
    "# print value.min(), value.max()"
   ]
  },
  {
   "cell_type": "markdown",
   "metadata": {},
   "source": [
    "# HOSArchive_Revised_Flatfiles_20131001: Hospital Comparison"
   ]
  },
  {
   "cell_type": "code",
   "execution_count": 23,
   "metadata": {
    "collapsed": true
   },
   "outputs": [],
   "source": [
    "outcome_o = pd.read_csv('./data/HOSArchive_Revised_Flatfiles_20131001/Outcome of Care Measures.csv')"
   ]
  },
  {
   "cell_type": "code",
   "execution_count": 24,
   "metadata": {
    "collapsed": true
   },
   "outputs": [],
   "source": [
    "def isstr(x):\n",
    "    return isinstance(x,str)\n",
    "vec_isstr = np.vectorize(isstr)"
   ]
  },
  {
   "cell_type": "code",
   "execution_count": 25,
   "metadata": {
    "collapsed": false
   },
   "outputs": [],
   "source": [
    "outcome = outcome_o.drop(outcome_o.index[np.where(vec_isstr(outcome_o['County Name'].values) == False)[0]])"
   ]
  },
  {
   "cell_type": "code",
   "execution_count": 26,
   "metadata": {
    "collapsed": false
   },
   "outputs": [
    {
     "data": {
      "text/html": [
       "<div style=\"max-height:1000px;max-width:1500px;overflow:auto;\">\n",
       "<table border=\"1\" class=\"dataframe\">\n",
       "  <thead>\n",
       "    <tr style=\"text-align: right;\">\n",
       "      <th></th>\n",
       "      <th>Provider Number</th>\n",
       "      <th>Hospital Name</th>\n",
       "      <th>Address 1</th>\n",
       "      <th>Address 2</th>\n",
       "      <th>Address 3</th>\n",
       "      <th>City</th>\n",
       "      <th>State</th>\n",
       "      <th>ZIP Code</th>\n",
       "      <th>County Name</th>\n",
       "      <th>Phone Number</th>\n",
       "      <th>...</th>\n",
       "      <th>Number of Patients - All cause hospital-wide readmission</th>\n",
       "      <th>RSRR - All cause hospital-wide readmission</th>\n",
       "      <th>Lower Readmission Estimate - All cause hospital-wide readmission</th>\n",
       "      <th>Upper Readmission Estimate - All cause hospital-wide readmission</th>\n",
       "      <th>Complications and Deaths following hip/knee surgery</th>\n",
       "      <th>Footnote - Complications and Deaths following hip/knee surgery</th>\n",
       "      <th>Number of Patients - Complications and Deaths following hip/knee surgery</th>\n",
       "      <th>RSCR - Complications and Deaths following hip/knee surgery</th>\n",
       "      <th>Lower Readmission Estimate - Complications and Deaths following hip/knee surgery</th>\n",
       "      <th>Upper Readmission Estimate - Complications and Deaths following hip/knee surgery</th>\n",
       "    </tr>\n",
       "  </thead>\n",
       "  <tbody>\n",
       "    <tr>\n",
       "      <th>0</th>\n",
       "      <td>010001</td>\n",
       "      <td>SOUTHEAST ALABAMA MEDICAL CENTER</td>\n",
       "      <td>1108 ROSS CLARK CIRCLE</td>\n",
       "      <td>NaN</td>\n",
       "      <td>NaN</td>\n",
       "      <td>DOTHAN</td>\n",
       "      <td>AL</td>\n",
       "      <td>36301</td>\n",
       "      <td>HOUSTON</td>\n",
       "      <td>3347938701</td>\n",
       "      <td>...</td>\n",
       "      <td>4686</td>\n",
       "      <td>14.8</td>\n",
       "      <td>13.3</td>\n",
       "      <td>16.5</td>\n",
       "      <td>No Different than U.S. National Rate</td>\n",
       "      <td>NaN</td>\n",
       "      <td>367</td>\n",
       "      <td>NaN</td>\n",
       "      <td>2.7</td>\n",
       "      <td>5.9</td>\n",
       "    </tr>\n",
       "  </tbody>\n",
       "</table>\n",
       "<p>1 rows × 64 columns</p>\n",
       "</div>"
      ],
      "text/plain": [
       "  Provider Number                     Hospital Name               Address 1  \\\n",
       "0          010001  SOUTHEAST ALABAMA MEDICAL CENTER  1108 ROSS CLARK CIRCLE   \n",
       "\n",
       "   Address 2  Address 3    City State  ZIP Code County Name  Phone Number  \\\n",
       "0        NaN        NaN  DOTHAN    AL     36301     HOUSTON    3347938701   \n",
       "\n",
       "                                        ...                                         \\\n",
       "0                                       ...                                          \n",
       "\n",
       "  Number of Patients - All cause hospital-wide readmission  \\\n",
       "0                                               4686         \n",
       "\n",
       "  RSRR - All cause hospital-wide readmission  \\\n",
       "0                                       14.8   \n",
       "\n",
       "  Lower Readmission Estimate - All cause hospital-wide readmission  \\\n",
       "0                                               13.3                 \n",
       "\n",
       "  Upper Readmission Estimate - All cause hospital-wide readmission  \\\n",
       "0                                               16.5                 \n",
       "\n",
       "  Complications and Deaths following hip/knee surgery  \\\n",
       "0               No Different than U.S. National Rate    \n",
       "\n",
       "  Footnote - Complications and Deaths following hip/knee surgery  \\\n",
       "0                                                NaN               \n",
       "\n",
       "  Number of Patients - Complications and Deaths following hip/knee surgery  \\\n",
       "0                                                367                         \n",
       "\n",
       "  RSCR - Complications and Deaths following hip/knee surgery  \\\n",
       "0                                                NaN           \n",
       "\n",
       "  Lower Readmission Estimate - Complications and Deaths following hip/knee surgery  \\\n",
       "0                                                2.7                                 \n",
       "\n",
       "  Upper Readmission Estimate - Complications and Deaths following hip/knee surgery  \n",
       "0                                                5.9                                \n",
       "\n",
       "[1 rows x 64 columns]"
      ]
     },
     "execution_count": 26,
     "metadata": {},
     "output_type": "execute_result"
    }
   ],
   "source": [
    "outcome.head(1)"
   ]
  },
  {
   "cell_type": "code",
   "execution_count": 27,
   "metadata": {
    "collapsed": false
   },
   "outputs": [],
   "source": [
    "# print list(outcome.columns.values)\n",
    "to_del = ['Provider Number','Address 1','Address 2','Address 3','Phone Number']\n",
    "pattern2eliminate = re.compile(r'(estimate|Footnote)',re.IGNORECASE)\n",
    "for i in list(outcome.columns.values):\n",
    "    if pattern2eliminate.search(i):\n",
    "        to_del.append(i)\n",
    "        \n",
    "outcome = outcome.drop(to_del,axis=1)"
   ]
  },
  {
   "cell_type": "code",
   "execution_count": 28,
   "metadata": {
    "collapsed": false
   },
   "outputs": [
    {
     "name": "stdout",
     "output_type": "stream",
     "text": [
      "['Hospital Name', 'City', 'State', 'ZIP Code', 'County Name', 'Hospital 30-Day Death (Mortality) Rates from Heart Attack', 'Comparison to U S  Rate - Hospital 30-Day Death (Mortality) Rates from Heart Attack', 'Number of Patients - Hospital 30-Day Death (Mortality) Rates from Heart Attack', 'Hospital 30-Day Death (Mortality) Rates from Heart Failure', 'Comparison to U S  Rate - Hospital 30-Day Death (Mortality) Rates from Heart Failure', 'Number of Patients - Hospital 30-Day Death (Mortality) Rates from Heart Failure', 'Hospital 30-Day Death (Mortality) Rates from Pneumonia', 'Comparison to U S  Rate - Hospital 30-Day Death (Mortality) Rates from Pneumonia', 'Number of Patients - Hospital 30-Day Death (Mortality) Rates from Pneumonia', 'Hospital 30-Day Readmission Rates from Heart Attack', 'Comparison to U S  Rate - Hospital 30-Day Readmission Rates from Heart Attack', 'Number of Patients - Hospital 30-Day Readmission Rates from Heart Attack', 'Hospital 30-Day Readmission Rates from Heart Failure', 'Comparison to U S  Rate - Hospital 30-Day Readmission Rates from Heart Failure', 'Number of Patients - Hospital 30-Day Readmission Rates from Heart Failure', 'Hospital 30-Day Readmission Rates from Pneumonia', 'Comparison to U S  Rate - Hospital 30-Day Readmission Rates from Pneumonia', 'Number of Patients - Hospital 30-Day Readmission Rates from Pneumonia', 'Rate of readmission after hip or knee surgery', 'Number of Patients - Rate of readmission after hip or knee surgery', 'RSRR - Rate of readmission after hip or knee surgery', 'All cause hospital-wide readmission', 'Number of Patients - All cause hospital-wide readmission', 'RSRR - All cause hospital-wide readmission', 'Complications and Deaths following hip/knee surgery', 'Number of Patients - Complications and Deaths following hip/knee surgery', 'RSCR - Complications and Deaths following hip/knee surgery']\n"
     ]
    }
   ],
   "source": [
    "colnames = list(outcome.columns.values)\n",
    "print colnames"
   ]
  },
  {
   "cell_type": "code",
   "execution_count": 29,
   "metadata": {
    "collapsed": false
   },
   "outputs": [
    {
     "name": "stdout",
     "output_type": "stream",
     "text": [
      "Comparison to U S  Rate - Hospital 30-Day Death (Mortality) Rates from Heart Attack\n",
      "Comparison to U S  Rate - Hospital 30-Day Death (Mortality) Rates from Heart Failure\n",
      "Comparison to U S  Rate - Hospital 30-Day Death (Mortality) Rates from Pneumonia\n",
      "Comparison to U S  Rate - Hospital 30-Day Readmission Rates from Heart Attack\n",
      "Comparison to U S  Rate - Hospital 30-Day Readmission Rates from Heart Failure\n",
      "Comparison to U S  Rate - Hospital 30-Day Readmission Rates from Pneumonia\n"
     ]
    }
   ],
   "source": [
    "pattern_comparison = re.compile(r'comparison', re.IGNORECASE)\n",
    "colnames_comparison = []\n",
    "for i in colnames:\n",
    "    if pattern_comparison.search(i):\n",
    "        print i\n",
    "        colnames_comparison.append(i)"
   ]
  },
  {
   "cell_type": "code",
   "execution_count": 30,
   "metadata": {
    "collapsed": false
   },
   "outputs": [],
   "source": [
    "def organize_label(factor, label):\n",
    "    factor = np.array(factor)\n",
    "    value = list(set(factor))\n",
    "\n",
    "    i = zip(label, value)\n",
    "    label2fact = dict((x, y) for x, y in i)\n",
    "#     print label2fact\n",
    "    mapper = {}\n",
    "    for i in label:\n",
    "        if re.search('Better', i):\n",
    "            mapper[label2fact[i]] = -1\n",
    "        elif re.search('Worse',i):\n",
    "            mapper[label2fact[i]] = 2\n",
    "        elif re.search('No ', i):\n",
    "            mapper[label2fact[i]] = 1\n",
    "        else:\n",
    "            mapper[label2fact[i]] = 0\n",
    "#     print mapper\n",
    "    for key in mapper:\n",
    "        factor[factor == key] = mapper[key]\n",
    "        \n",
    "    return factor\n",
    "    \n",
    "def give_score(array, comparison_mode):\n",
    "    if re.search('Death', comparison_mode):\n",
    "        scale = 5\n",
    "    elif re.search('hospital-wide', comparison_mode):\n",
    "        scale = 3\n",
    "    else:\n",
    "        scale = 1\n",
    "    \n",
    "    factor, label = pd.factorize(array)\n",
    "    factor_fixed = organize_label(factor, label)\n",
    "    return factor_fixed*scale\n",
    "#     if "
   ]
  },
  {
   "cell_type": "code",
   "execution_count": 31,
   "metadata": {
    "collapsed": false
   },
   "outputs": [
    {
     "data": {
      "text/plain": [
       "['Comparison to U S  Rate - Hospital 30-Day Death (Mortality) Rates from Heart Attack',\n",
       " 'Comparison to U S  Rate - Hospital 30-Day Death (Mortality) Rates from Heart Failure',\n",
       " 'Comparison to U S  Rate - Hospital 30-Day Death (Mortality) Rates from Pneumonia',\n",
       " 'Comparison to U S  Rate - Hospital 30-Day Readmission Rates from Heart Attack',\n",
       " 'Comparison to U S  Rate - Hospital 30-Day Readmission Rates from Heart Failure',\n",
       " 'Comparison to U S  Rate - Hospital 30-Day Readmission Rates from Pneumonia',\n",
       " 'All cause hospital-wide readmission']"
      ]
     },
     "execution_count": 31,
     "metadata": {},
     "output_type": "execute_result"
    }
   ],
   "source": [
    "colnames_comparison.append('All cause hospital-wide readmission')\n",
    "colnames_comparison"
   ]
  },
  {
   "cell_type": "code",
   "execution_count": 32,
   "metadata": {
    "collapsed": false
   },
   "outputs": [
    {
     "name": "stderr",
     "output_type": "stream",
     "text": [
      "/Users/shokoryu/anaconda/lib/python2.7/site-packages/IPython/kernel/__main__.py:5: FutureWarning: comparison to `None` will result in an elementwise object comparison in the future.\n"
     ]
    }
   ],
   "source": [
    "score_cum = None\n",
    "for i in colnames_comparison:\n",
    "    score = give_score(outcome[i],i)\n",
    "    outcome[i] = score\n",
    "    if score_cum == None:\n",
    "        score_cum = score\n",
    "    else:\n",
    "        score_cum += score\n",
    "    "
   ]
  },
  {
   "cell_type": "code",
   "execution_count": 33,
   "metadata": {
    "collapsed": false
   },
   "outputs": [
    {
     "data": {
      "text/html": [
       "<div style=\"max-height:1000px;max-width:1500px;overflow:auto;\">\n",
       "<table border=\"1\" class=\"dataframe\">\n",
       "  <thead>\n",
       "    <tr style=\"text-align: right;\">\n",
       "      <th></th>\n",
       "      <th>Hospital Name</th>\n",
       "      <th>City</th>\n",
       "      <th>State</th>\n",
       "      <th>ZIP Code</th>\n",
       "      <th>County Name</th>\n",
       "      <th>Hospital 30-Day Death (Mortality) Rates from Heart Attack</th>\n",
       "      <th>Comparison to U S  Rate - Hospital 30-Day Death (Mortality) Rates from Heart Attack</th>\n",
       "      <th>Number of Patients - Hospital 30-Day Death (Mortality) Rates from Heart Attack</th>\n",
       "      <th>Hospital 30-Day Death (Mortality) Rates from Heart Failure</th>\n",
       "      <th>Comparison to U S  Rate - Hospital 30-Day Death (Mortality) Rates from Heart Failure</th>\n",
       "      <th>...</th>\n",
       "      <th>Number of Patients - Hospital 30-Day Readmission Rates from Pneumonia</th>\n",
       "      <th>Rate of readmission after hip or knee surgery</th>\n",
       "      <th>Number of Patients - Rate of readmission after hip or knee surgery</th>\n",
       "      <th>RSRR - Rate of readmission after hip or knee surgery</th>\n",
       "      <th>All cause hospital-wide readmission</th>\n",
       "      <th>Number of Patients - All cause hospital-wide readmission</th>\n",
       "      <th>RSRR - All cause hospital-wide readmission</th>\n",
       "      <th>Complications and Deaths following hip/knee surgery</th>\n",
       "      <th>Number of Patients - Complications and Deaths following hip/knee surgery</th>\n",
       "      <th>RSCR - Complications and Deaths following hip/knee surgery</th>\n",
       "    </tr>\n",
       "  </thead>\n",
       "  <tbody>\n",
       "    <tr>\n",
       "      <th>1827</th>\n",
       "      <td>WILLIS KNIGHTON BOSSIER HEALTH CENTER</td>\n",
       "      <td>BOSSIER CITY</td>\n",
       "      <td>LA</td>\n",
       "      <td>71111</td>\n",
       "      <td>BOSSIER</td>\n",
       "      <td>15.7</td>\n",
       "      <td>0</td>\n",
       "      <td>147</td>\n",
       "      <td>11.1</td>\n",
       "      <td>0</td>\n",
       "      <td>...</td>\n",
       "      <td>347</td>\n",
       "      <td>No Different than U.S. National Rate</td>\n",
       "      <td>232</td>\n",
       "      <td>5.7</td>\n",
       "      <td>0</td>\n",
       "      <td>2271</td>\n",
       "      <td>15.1</td>\n",
       "      <td>No Different than U.S. National Rate</td>\n",
       "      <td>224</td>\n",
       "      <td>NaN</td>\n",
       "    </tr>\n",
       "  </tbody>\n",
       "</table>\n",
       "<p>1 rows × 32 columns</p>\n",
       "</div>"
      ],
      "text/plain": [
       "                              Hospital Name          City State  ZIP Code  \\\n",
       "1827  WILLIS KNIGHTON BOSSIER HEALTH CENTER  BOSSIER CITY    LA     71111   \n",
       "\n",
       "     County Name Hospital 30-Day Death (Mortality) Rates from Heart Attack  \\\n",
       "1827     BOSSIER                                               15.7          \n",
       "\n",
       "      Comparison to U S  Rate - Hospital 30-Day Death (Mortality) Rates from Heart Attack  \\\n",
       "1827                                                  0                                     \n",
       "\n",
       "     Number of Patients - Hospital 30-Day Death (Mortality) Rates from Heart Attack  \\\n",
       "1827                                                147                               \n",
       "\n",
       "     Hospital 30-Day Death (Mortality) Rates from Heart Failure  \\\n",
       "1827                                               11.1           \n",
       "\n",
       "      Comparison to U S  Rate - Hospital 30-Day Death (Mortality) Rates from Heart Failure  \\\n",
       "1827                                                  0                                      \n",
       "\n",
       "                                ...                              \\\n",
       "1827                            ...                               \n",
       "\n",
       "     Number of Patients - Hospital 30-Day Readmission Rates from Pneumonia  \\\n",
       "1827                                                347                      \n",
       "\n",
       "     Rate of readmission after hip or knee surgery  \\\n",
       "1827          No Different than U.S. National Rate   \n",
       "\n",
       "      Number of Patients - Rate of readmission after hip or knee surgery  \\\n",
       "1827                                                232                    \n",
       "\n",
       "     RSRR - Rate of readmission after hip or knee surgery  \\\n",
       "1827                                                5.7     \n",
       "\n",
       "     All cause hospital-wide readmission  \\\n",
       "1827                                   0   \n",
       "\n",
       "      Number of Patients - All cause hospital-wide readmission  \\\n",
       "1827                                               2271          \n",
       "\n",
       "     RSRR - All cause hospital-wide readmission  \\\n",
       "1827                                       15.1   \n",
       "\n",
       "     Complications and Deaths following hip/knee surgery  \\\n",
       "1827               No Different than U.S. National Rate    \n",
       "\n",
       "      Number of Patients - Complications and Deaths following hip/knee surgery  \\\n",
       "1827                                                224                          \n",
       "\n",
       "     RSCR - Complications and Deaths following hip/knee surgery  \n",
       "1827                                                NaN          \n",
       "\n",
       "[1 rows x 32 columns]"
      ]
     },
     "execution_count": 33,
     "metadata": {},
     "output_type": "execute_result"
    }
   ],
   "source": [
    "outcome[outcome['County Name'] == 'bossier'.upper()]"
   ]
  },
  {
   "cell_type": "code",
   "execution_count": 34,
   "metadata": {
    "collapsed": true
   },
   "outputs": [],
   "source": [
    "outcome['score'] = score_cum"
   ]
  },
  {
   "cell_type": "code",
   "execution_count": 35,
   "metadata": {
    "collapsed": false
   },
   "outputs": [],
   "source": [
    "# outcome['All cause hospital-wide readmission'],f = pd.factorize(outcome['All cause hospital-wide readmission'])\n",
    "# print f\n",
    "# #delete\n",
    "# outcome = outcome[~(outcome['All cause hospital-wide readmission'] ==  1)] # Number of Cases Too Small\n",
    "# outcome = outcome[~(outcome['All cause hospital-wide readmission'] ==  4)] # Not Available\n",
    "# # outcome_ = outcome.copy()\n",
    "# col = \"All cause hospital-wide readmission\"\n",
    "# for i in [0,2,3]:\n",
    "#     if i == 0:\n",
    "#         outcome.ix[outcome[col] == i, col] = 1 #No Difference\n",
    "#     elif i == 2:\n",
    "#         outcome.ix[outcome[col] == i,col] = 0 #Worse\n",
    "#     elif i == 3:\n",
    "#         outcome.ix[outcome[col] == i, col] = 2 #Better"
   ]
  },
  {
   "cell_type": "code",
   "execution_count": 36,
   "metadata": {
    "collapsed": false
   },
   "outputs": [],
   "source": [
    "def isNaN(x):\n",
    "    try:\n",
    "        return np.isnan(x)\n",
    "    except TypeError:\n",
    "        return False\n",
    "vec_isNaN = np.vectorize(isNaN)"
   ]
  },
  {
   "cell_type": "code",
   "execution_count": 37,
   "metadata": {
    "collapsed": false
   },
   "outputs": [],
   "source": [
    "store = {}\n",
    "for county, content in outcome.groupby('County Name'):\n",
    "    name = county.lower()\n",
    "#     array = content['Hospital 30-Day Death (Mortality) Rates from Pneumonia'].values\n",
    "    array1 = content['score'].values\n",
    "\n",
    "    store[name] = {}\n",
    "    \n",
    "    store[name]['score'] = array1\n",
    "#     store[name]['num'] = array.astype(float)\n"
   ]
  },
  {
   "cell_type": "code",
   "execution_count": 38,
   "metadata": {
    "collapsed": false
   },
   "outputs": [
    {
     "name": "stdout",
     "output_type": "stream",
     "text": [
      "['WA', 'VA', 'DE', 'DC', 'WI', 'WV', 'HI', 'FL', 'WY', 'NH', 'NJ', 'NM', 'TX', 'LA', 'NC', 'ND', 'NE', 'TN', 'NY', 'PA', 'CA', 'NV', 'PR', 'GU', 'CO', 'VI', 'AK', 'AL', 'AR', 'VT', 'IL', 'GA', 'IN', 'IA', 'OK', 'AZ', 'ID', 'CT', 'ME', 'MD', 'MA', 'OH', 'UT', 'MO', 'MN', 'MI', 'RI', 'KS', 'MT', 'MS', 'SC', 'KY', 'OR', 'SD']\n"
     ]
    }
   ],
   "source": [
    "state = list(set(outcome.State))\n",
    "print state"
   ]
  },
  {
   "cell_type": "code",
   "execution_count": 39,
   "metadata": {
    "collapsed": false
   },
   "outputs": [],
   "source": [
    "State_County = {}\n",
    "all_county = []\n",
    "for state_name, i in outcome.groupby('State'):\n",
    "#     store = {}\n",
    "    for county_name, ii in i.groupby('County Name'):\n",
    "        county = county_name.lower()\n",
    "        all_county.append(county)\n",
    "        \n",
    "        State_County[county] = {}\n",
    "        State_County[county]['zip'] = list(set(ii['ZIP Code'].values))\n",
    "        State_County[county]['state'] = state_name\n",
    "        \n",
    "        try:\n",
    "            for i in key_cog:\n",
    "                State_County[county][i] = cog_values[state_name][i]\n",
    "\n",
    "        except KeyError:\n",
    "             for i in key_cog:\n",
    "                State_County[county][i] = 0"
   ]
  },
  {
   "cell_type": "markdown",
   "metadata": {},
   "source": [
    "# Map from National Code to County "
   ]
  },
  {
   "cell_type": "code",
   "execution_count": 40,
   "metadata": {
    "collapsed": true
   },
   "outputs": [],
   "source": [
    "map_fip2County = pd.read_csv('./data/national_county_code.txt',header=None)\n",
    "map_fip2County[0] = zip(map_fip2County[1],map_fip2County[2])"
   ]
  },
  {
   "cell_type": "code",
   "execution_count": 41,
   "metadata": {
    "collapsed": false
   },
   "outputs": [],
   "source": [
    "map_fip2County = map_fip2County.drop([1,2,4], axis = 1)"
   ]
  },
  {
   "cell_type": "code",
   "execution_count": 42,
   "metadata": {
    "collapsed": false
   },
   "outputs": [
    {
     "data": {
      "text/html": [
       "<div style=\"max-height:1000px;max-width:1500px;overflow:auto;\">\n",
       "<table border=\"1\" class=\"dataframe\">\n",
       "  <thead>\n",
       "    <tr style=\"text-align: right;\">\n",
       "      <th></th>\n",
       "      <th>0</th>\n",
       "      <th>3</th>\n",
       "    </tr>\n",
       "  </thead>\n",
       "  <tbody>\n",
       "    <tr>\n",
       "      <th>0</th>\n",
       "      <td>(1, 1)</td>\n",
       "      <td>Autauga County</td>\n",
       "    </tr>\n",
       "    <tr>\n",
       "      <th>1</th>\n",
       "      <td>(1, 3)</td>\n",
       "      <td>Baldwin County</td>\n",
       "    </tr>\n",
       "    <tr>\n",
       "      <th>2</th>\n",
       "      <td>(1, 5)</td>\n",
       "      <td>Barbour County</td>\n",
       "    </tr>\n",
       "    <tr>\n",
       "      <th>3</th>\n",
       "      <td>(1, 7)</td>\n",
       "      <td>Bibb County</td>\n",
       "    </tr>\n",
       "    <tr>\n",
       "      <th>4</th>\n",
       "      <td>(1, 9)</td>\n",
       "      <td>Blount County</td>\n",
       "    </tr>\n",
       "  </tbody>\n",
       "</table>\n",
       "</div>"
      ],
      "text/plain": [
       "        0               3\n",
       "0  (1, 1)  Autauga County\n",
       "1  (1, 3)  Baldwin County\n",
       "2  (1, 5)  Barbour County\n",
       "3  (1, 7)     Bibb County\n",
       "4  (1, 9)   Blount County"
      ]
     },
     "execution_count": 42,
     "metadata": {},
     "output_type": "execute_result"
    }
   ],
   "source": [
    "map_fip2County.head()"
   ]
  },
  {
   "cell_type": "code",
   "execution_count": 43,
   "metadata": {
    "collapsed": false
   },
   "outputs": [],
   "source": [
    "map_fip2County = pd.Series(map_fip2County[3].str.replace(' County','').values,index=map_fip2County[0]).to_dict()"
   ]
  },
  {
   "cell_type": "markdown",
   "metadata": {},
   "source": [
    "# County wise Industry size"
   ]
  },
  {
   "cell_type": "code",
   "execution_count": 44,
   "metadata": {
    "collapsed": true
   },
   "outputs": [],
   "source": [
    "cbp = pd.read_csv('./data/cbp12co.txt',)"
   ]
  },
  {
   "cell_type": "code",
   "execution_count": 45,
   "metadata": {
    "collapsed": false
   },
   "outputs": [],
   "source": [
    "cbp['mapper'] = zip(cbp['fipstate'], cbp['fipscty'])"
   ]
  },
  {
   "cell_type": "code",
   "execution_count": 46,
   "metadata": {
    "collapsed": true
   },
   "outputs": [],
   "source": [
    "def mapCounty(x):\n",
    "    try:\n",
    "        return map_fip2County[x].lower()\n",
    "    except KeyError:\n",
    "        return x"
   ]
  },
  {
   "cell_type": "code",
   "execution_count": 47,
   "metadata": {
    "collapsed": false
   },
   "outputs": [],
   "source": [
    "cbp['county'] = cbp['mapper'].map(mapCounty)"
   ]
  },
  {
   "cell_type": "code",
   "execution_count": 48,
   "metadata": {
    "collapsed": false
   },
   "outputs": [
    {
     "data": {
      "text/html": [
       "<div style=\"max-height:1000px;max-width:1500px;overflow:auto;\">\n",
       "<table border=\"1\" class=\"dataframe\">\n",
       "  <thead>\n",
       "    <tr style=\"text-align: right;\">\n",
       "      <th></th>\n",
       "      <th>fipstate</th>\n",
       "      <th>fipscty</th>\n",
       "      <th>naics</th>\n",
       "      <th>empflag</th>\n",
       "      <th>emp_nf</th>\n",
       "      <th>emp</th>\n",
       "      <th>qp1_nf</th>\n",
       "      <th>qp1</th>\n",
       "      <th>ap_nf</th>\n",
       "      <th>ap</th>\n",
       "      <th>...</th>\n",
       "      <th>n500_999</th>\n",
       "      <th>n1000</th>\n",
       "      <th>n1000_1</th>\n",
       "      <th>n1000_2</th>\n",
       "      <th>n1000_3</th>\n",
       "      <th>n1000_4</th>\n",
       "      <th>censtate</th>\n",
       "      <th>cencty</th>\n",
       "      <th>mapper</th>\n",
       "      <th>county</th>\n",
       "    </tr>\n",
       "  </thead>\n",
       "  <tbody>\n",
       "    <tr>\n",
       "      <th>0</th>\n",
       "      <td>1</td>\n",
       "      <td>1</td>\n",
       "      <td>------</td>\n",
       "      <td>NaN</td>\n",
       "      <td>G</td>\n",
       "      <td>9908</td>\n",
       "      <td>G</td>\n",
       "      <td>65428</td>\n",
       "      <td>G</td>\n",
       "      <td>280188</td>\n",
       "      <td>...</td>\n",
       "      <td>1</td>\n",
       "      <td>0</td>\n",
       "      <td>0</td>\n",
       "      <td>0</td>\n",
       "      <td>0</td>\n",
       "      <td>0</td>\n",
       "      <td>63</td>\n",
       "      <td>1</td>\n",
       "      <td>(1, 1)</td>\n",
       "      <td>autauga</td>\n",
       "    </tr>\n",
       "    <tr>\n",
       "      <th>1</th>\n",
       "      <td>1</td>\n",
       "      <td>1</td>\n",
       "      <td>11----</td>\n",
       "      <td>NaN</td>\n",
       "      <td>H</td>\n",
       "      <td>30</td>\n",
       "      <td>H</td>\n",
       "      <td>264</td>\n",
       "      <td>G</td>\n",
       "      <td>1102</td>\n",
       "      <td>...</td>\n",
       "      <td>0</td>\n",
       "      <td>0</td>\n",
       "      <td>0</td>\n",
       "      <td>0</td>\n",
       "      <td>0</td>\n",
       "      <td>0</td>\n",
       "      <td>63</td>\n",
       "      <td>1</td>\n",
       "      <td>(1, 1)</td>\n",
       "      <td>autauga</td>\n",
       "    </tr>\n",
       "    <tr>\n",
       "      <th>2</th>\n",
       "      <td>1</td>\n",
       "      <td>1</td>\n",
       "      <td>113///</td>\n",
       "      <td>NaN</td>\n",
       "      <td>H</td>\n",
       "      <td>30</td>\n",
       "      <td>H</td>\n",
       "      <td>264</td>\n",
       "      <td>G</td>\n",
       "      <td>1102</td>\n",
       "      <td>...</td>\n",
       "      <td>0</td>\n",
       "      <td>0</td>\n",
       "      <td>0</td>\n",
       "      <td>0</td>\n",
       "      <td>0</td>\n",
       "      <td>0</td>\n",
       "      <td>63</td>\n",
       "      <td>1</td>\n",
       "      <td>(1, 1)</td>\n",
       "      <td>autauga</td>\n",
       "    </tr>\n",
       "    <tr>\n",
       "      <th>3</th>\n",
       "      <td>1</td>\n",
       "      <td>1</td>\n",
       "      <td>1133//</td>\n",
       "      <td>NaN</td>\n",
       "      <td>H</td>\n",
       "      <td>30</td>\n",
       "      <td>H</td>\n",
       "      <td>264</td>\n",
       "      <td>G</td>\n",
       "      <td>1102</td>\n",
       "      <td>...</td>\n",
       "      <td>0</td>\n",
       "      <td>0</td>\n",
       "      <td>0</td>\n",
       "      <td>0</td>\n",
       "      <td>0</td>\n",
       "      <td>0</td>\n",
       "      <td>63</td>\n",
       "      <td>1</td>\n",
       "      <td>(1, 1)</td>\n",
       "      <td>autauga</td>\n",
       "    </tr>\n",
       "    <tr>\n",
       "      <th>4</th>\n",
       "      <td>1</td>\n",
       "      <td>1</td>\n",
       "      <td>11331/</td>\n",
       "      <td>NaN</td>\n",
       "      <td>H</td>\n",
       "      <td>30</td>\n",
       "      <td>H</td>\n",
       "      <td>264</td>\n",
       "      <td>G</td>\n",
       "      <td>1102</td>\n",
       "      <td>...</td>\n",
       "      <td>0</td>\n",
       "      <td>0</td>\n",
       "      <td>0</td>\n",
       "      <td>0</td>\n",
       "      <td>0</td>\n",
       "      <td>0</td>\n",
       "      <td>63</td>\n",
       "      <td>1</td>\n",
       "      <td>(1, 1)</td>\n",
       "      <td>autauga</td>\n",
       "    </tr>\n",
       "  </tbody>\n",
       "</table>\n",
       "<p>5 rows × 28 columns</p>\n",
       "</div>"
      ],
      "text/plain": [
       "   fipstate  fipscty   naics empflag emp_nf   emp qp1_nf    qp1 ap_nf      ap  \\\n",
       "0         1        1  ------     NaN      G  9908      G  65428     G  280188   \n",
       "1         1        1  11----     NaN      H    30      H    264     G    1102   \n",
       "2         1        1  113///     NaN      H    30      H    264     G    1102   \n",
       "3         1        1  1133//     NaN      H    30      H    264     G    1102   \n",
       "4         1        1  11331/     NaN      H    30      H    264     G    1102   \n",
       "\n",
       "    ...     n500_999  n1000  n1000_1  n1000_2  n1000_3  n1000_4  censtate  \\\n",
       "0   ...            1      0        0        0        0        0        63   \n",
       "1   ...            0      0        0        0        0        0        63   \n",
       "2   ...            0      0        0        0        0        0        63   \n",
       "3   ...            0      0        0        0        0        0        63   \n",
       "4   ...            0      0        0        0        0        0        63   \n",
       "\n",
       "   cencty  mapper   county  \n",
       "0       1  (1, 1)  autauga  \n",
       "1       1  (1, 1)  autauga  \n",
       "2       1  (1, 1)  autauga  \n",
       "3       1  (1, 1)  autauga  \n",
       "4       1  (1, 1)  autauga  \n",
       "\n",
       "[5 rows x 28 columns]"
      ]
     },
     "execution_count": 48,
     "metadata": {},
     "output_type": "execute_result"
    }
   ],
   "source": [
    "cbp.head()"
   ]
  },
  {
   "cell_type": "code",
   "execution_count": 49,
   "metadata": {
    "collapsed": false
   },
   "outputs": [],
   "source": [
    "# delete naics entries with '--------'\n",
    "invalid_naics = re.compile(r'^\\D+')\n",
    "to_del = []\n",
    "for ind, i in enumerate(cbp.naics):\n",
    "    if invalid_naics.search(i):\n",
    "        to_del.append(ind)\n",
    "cbp = cbp.drop(to_del, axis = 0)"
   ]
  },
  {
   "cell_type": "code",
   "execution_count": 50,
   "metadata": {
    "collapsed": false
   },
   "outputs": [],
   "source": [
    "\n",
    "county = []\n",
    "for county_name, i in cbp.groupby('county'):\n",
    "    if not isinstance(county_name,tuple):\n",
    "        name = county_name.lower()\n",
    "        if name in all_county:\n",
    "            county.append(name)\n",
    "            State_County[name]['APayroll_mean'] = i['ap'].mean() \n",
    "            State_County[name]['APayroll_med'] = i['ap'].median()\n",
    "            State_County[name]['APayroll_std'] = i['ap'].std()\n",
    "#             State_County[name]['APayroll_mod'] = stats.mode(i['ap'])\n",
    "            State_County[name]['Establishment_mean'] = i['est'].mean()\n",
    "            State_County[name]['Establishment_med'] = i['est'].median()\n",
    "            State_County[name]['Establishment_std'] = i['est'].std()\n",
    "#             State_County[name]['Establishment_mod'] = stats.mode(i['est'])\n",
    "\n",
    "            "
   ]
  },
  {
   "cell_type": "code",
   "execution_count": 51,
   "metadata": {
    "collapsed": true
   },
   "outputs": [],
   "source": [
    "for key, content in State_County.items():\n",
    "    if 'APayroll_mean' not in content:\n",
    "        State_County.pop(key)"
   ]
  },
  {
   "cell_type": "code",
   "execution_count": 52,
   "metadata": {
    "collapsed": false
   },
   "outputs": [],
   "source": [
    "for key in State_County:\n",
    "    if key in store:\n",
    "#         State_County[key]['num'] = store[key]['num']\n",
    "        State_County[key]['score'] = store[key]['score']"
   ]
  },
  {
   "cell_type": "markdown",
   "metadata": {},
   "source": [
    "# Poverty"
   ]
  },
  {
   "cell_type": "code",
   "execution_count": 53,
   "metadata": {
    "collapsed": false
   },
   "outputs": [
    {
     "data": {
      "text/plain": [
       "'en_US.UTF-8'"
      ]
     },
     "execution_count": 53,
     "metadata": {},
     "output_type": "execute_result"
    }
   ],
   "source": [
    "import locale\n",
    "locale.setlocale( locale.LC_ALL, 'en_US.UTF-8' ) "
   ]
  },
  {
   "cell_type": "code",
   "execution_count": 54,
   "metadata": {
    "collapsed": false
   },
   "outputs": [
    {
     "data": {
      "text/html": [
       "<div style=\"max-height:1000px;max-width:1500px;overflow:auto;\">\n",
       "<table border=\"1\" class=\"dataframe\">\n",
       "  <thead>\n",
       "    <tr style=\"text-align: right;\">\n",
       "      <th></th>\n",
       "      <th>State FIPS code</th>\n",
       "      <th>County FIPS code</th>\n",
       "      <th>Name</th>\n",
       "      <th>State Postal Code</th>\n",
       "      <th>Poverty Universe, All Ages</th>\n",
       "      <th>Poverty Universe, Age 5-17 related</th>\n",
       "      <th>Poverty Universe, Age 0-17</th>\n",
       "    </tr>\n",
       "  </thead>\n",
       "  <tbody>\n",
       "    <tr>\n",
       "      <th>0</th>\n",
       "      <td>0</td>\n",
       "      <td>0</td>\n",
       "      <td>United States</td>\n",
       "      <td>US</td>\n",
       "      <td>308,196,783</td>\n",
       "      <td>52,605,987</td>\n",
       "      <td>72,382,173</td>\n",
       "    </tr>\n",
       "    <tr>\n",
       "      <th>1</th>\n",
       "      <td>1</td>\n",
       "      <td>0</td>\n",
       "      <td>Alabama</td>\n",
       "      <td>AL</td>\n",
       "      <td>4,716,072</td>\n",
       "      <td>801,058</td>\n",
       "      <td>1,096,240</td>\n",
       "    </tr>\n",
       "  </tbody>\n",
       "</table>\n",
       "</div>"
      ],
      "text/plain": [
       "   State FIPS code  County FIPS code           Name State Postal Code  \\\n",
       "0                0                 0  United States                US   \n",
       "1                1                 0        Alabama                AL   \n",
       "\n",
       "  Poverty Universe, All Ages Poverty Universe, Age 5-17 related  \\\n",
       "0                308,196,783                         52,605,987   \n",
       "1                  4,716,072                            801,058   \n",
       "\n",
       "  Poverty Universe, Age 0-17  \n",
       "0                 72,382,173  \n",
       "1                  1,096,240  "
      ]
     },
     "execution_count": 54,
     "metadata": {},
     "output_type": "execute_result"
    }
   ],
   "source": [
    "pov = pd.read_csv('./data/allpovu_copy.csv',skiprows=0,header = 1)\n",
    "pov = pov.drop(pov.columns[[np.arange(7,pov.shape[1])]], axis = 1)\n",
    "pov.head(2)"
   ]
  },
  {
   "cell_type": "code",
   "execution_count": 55,
   "metadata": {
    "collapsed": true
   },
   "outputs": [],
   "source": [
    "pov['mapper'] = zip(pov['State FIPS code'].values, pov['County FIPS code'].values)\n",
    "pov['county'] = pov['mapper'].map(mapCounty)\n",
    "\n",
    "i = pov['Poverty Universe, All Ages']\n",
    "to_drop = list(i[vec_isNaN(i)].index)\n",
    "pov = pov.drop(to_drop, axis = 0)\n",
    "pov = pov[vec_isstr(pov.county.values)]"
   ]
  },
  {
   "cell_type": "code",
   "execution_count": 56,
   "metadata": {
    "collapsed": false
   },
   "outputs": [
    {
     "data": {
      "text/html": [
       "<div style=\"max-height:1000px;max-width:1500px;overflow:auto;\">\n",
       "<table border=\"1\" class=\"dataframe\">\n",
       "  <thead>\n",
       "    <tr style=\"text-align: right;\">\n",
       "      <th></th>\n",
       "      <th>State FIPS code</th>\n",
       "      <th>County FIPS code</th>\n",
       "      <th>Name</th>\n",
       "      <th>State Postal Code</th>\n",
       "      <th>Poverty Universe, All Ages</th>\n",
       "      <th>Poverty Universe, Age 5-17 related</th>\n",
       "      <th>Poverty Universe, Age 0-17</th>\n",
       "      <th>mapper</th>\n",
       "      <th>county</th>\n",
       "    </tr>\n",
       "  </thead>\n",
       "  <tbody>\n",
       "    <tr>\n",
       "      <th>2</th>\n",
       "      <td>1</td>\n",
       "      <td>1</td>\n",
       "      <td>Autauga County</td>\n",
       "      <td>AL</td>\n",
       "      <td>54,762</td>\n",
       "      <td>10,532</td>\n",
       "      <td>13,903</td>\n",
       "      <td>(1, 1)</td>\n",
       "      <td>autauga</td>\n",
       "    </tr>\n",
       "    <tr>\n",
       "      <th>3</th>\n",
       "      <td>1</td>\n",
       "      <td>3</td>\n",
       "      <td>Baldwin County</td>\n",
       "      <td>AL</td>\n",
       "      <td>192,931</td>\n",
       "      <td>32,113</td>\n",
       "      <td>43,240</td>\n",
       "      <td>(1, 3)</td>\n",
       "      <td>baldwin</td>\n",
       "    </tr>\n",
       "    <tr>\n",
       "      <th>4</th>\n",
       "      <td>1</td>\n",
       "      <td>5</td>\n",
       "      <td>Barbour County</td>\n",
       "      <td>AL</td>\n",
       "      <td>23,617</td>\n",
       "      <td>4,082</td>\n",
       "      <td>5,644</td>\n",
       "      <td>(1, 5)</td>\n",
       "      <td>barbour</td>\n",
       "    </tr>\n",
       "  </tbody>\n",
       "</table>\n",
       "</div>"
      ],
      "text/plain": [
       "   State FIPS code  County FIPS code            Name State Postal Code  \\\n",
       "2                1                 1  Autauga County                AL   \n",
       "3                1                 3  Baldwin County                AL   \n",
       "4                1                 5  Barbour County                AL   \n",
       "\n",
       "  Poverty Universe, All Ages Poverty Universe, Age 5-17 related  \\\n",
       "2                     54,762                             10,532   \n",
       "3                    192,931                             32,113   \n",
       "4                     23,617                              4,082   \n",
       "\n",
       "  Poverty Universe, Age 0-17  mapper   county  \n",
       "2                     13,903  (1, 1)  autauga  \n",
       "3                     43,240  (1, 3)  baldwin  \n",
       "4                      5,644  (1, 5)  barbour  "
      ]
     },
     "execution_count": 56,
     "metadata": {},
     "output_type": "execute_result"
    }
   ],
   "source": [
    "pov.head(3)"
   ]
  },
  {
   "cell_type": "code",
   "execution_count": 57,
   "metadata": {
    "collapsed": true
   },
   "outputs": [],
   "source": [
    "def str2num(x):\n",
    "    try:\n",
    "        return locale.atof(x)\n",
    "    except ValueError:\n",
    "        print x\n",
    "#         return locale.atoi(x)"
   ]
  },
  {
   "cell_type": "code",
   "execution_count": 58,
   "metadata": {
    "collapsed": false
   },
   "outputs": [],
   "source": [
    "pov['Poverty Universe, All Ages'] = pov['Poverty Universe, All Ages'].map(str2num).values\n",
    "pov['Poverty Universe, Age 0-17'] = pov['Poverty Universe, Age 0-17'].map(str2num).values"
   ]
  },
  {
   "cell_type": "code",
   "execution_count": 59,
   "metadata": {
    "collapsed": false
   },
   "outputs": [],
   "source": [
    "for i in State_County:\n",
    "    State_County[i]['pov'] = pov[pov['county'] == i]['Poverty Universe, All Ages'].values\n",
    "    State_County[i]['pov_young'] = pov[pov['county'] == i]['Poverty Universe, Age 0-17'].values"
   ]
  },
  {
   "cell_type": "markdown",
   "metadata": {},
   "source": [
    "# Income"
   ]
  },
  {
   "cell_type": "code",
   "execution_count": 60,
   "metadata": {
    "collapsed": false
   },
   "outputs": [],
   "source": [
    "income = pd.read_csv('./data/est13ALL_copy.csv',skiprows=0,header = 1)\n",
    "income = income[['State FIPS Code', 'County FIPS Code', 'Median Household Income']]"
   ]
  },
  {
   "cell_type": "code",
   "execution_count": 61,
   "metadata": {
    "collapsed": false
   },
   "outputs": [
    {
     "data": {
      "text/html": [
       "<div style=\"max-height:1000px;max-width:1500px;overflow:auto;\">\n",
       "<table border=\"1\" class=\"dataframe\">\n",
       "  <thead>\n",
       "    <tr style=\"text-align: right;\">\n",
       "      <th></th>\n",
       "      <th>State FIPS Code</th>\n",
       "      <th>County FIPS Code</th>\n",
       "      <th>Median Household Income</th>\n",
       "    </tr>\n",
       "  </thead>\n",
       "  <tbody>\n",
       "    <tr>\n",
       "      <th>0</th>\n",
       "      <td>0</td>\n",
       "      <td>0</td>\n",
       "      <td>52,250</td>\n",
       "    </tr>\n",
       "    <tr>\n",
       "      <th>1</th>\n",
       "      <td>1</td>\n",
       "      <td>0</td>\n",
       "      <td>42,882</td>\n",
       "    </tr>\n",
       "  </tbody>\n",
       "</table>\n",
       "</div>"
      ],
      "text/plain": [
       "   State FIPS Code  County FIPS Code Median Household Income\n",
       "0                0                 0                  52,250\n",
       "1                1                 0                  42,882"
      ]
     },
     "execution_count": 61,
     "metadata": {},
     "output_type": "execute_result"
    }
   ],
   "source": [
    "income.head(2)"
   ]
  },
  {
   "cell_type": "code",
   "execution_count": 62,
   "metadata": {
    "collapsed": false
   },
   "outputs": [],
   "source": [
    "income['mapper'] = zip(income['State FIPS Code'].values, income['County FIPS Code'].values)\n",
    "income['county'] = income['mapper'].map(mapCounty)\n",
    "income = income[vec_isstr(income.county.values)]"
   ]
  },
  {
   "cell_type": "code",
   "execution_count": 63,
   "metadata": {
    "collapsed": false
   },
   "outputs": [],
   "source": [
    "to_drop = income[income['Median Household Income'].values == '.'].index"
   ]
  },
  {
   "cell_type": "code",
   "execution_count": 64,
   "metadata": {
    "collapsed": false
   },
   "outputs": [],
   "source": [
    "income = income.drop(to_drop , axis = 0)"
   ]
  },
  {
   "cell_type": "code",
   "execution_count": 65,
   "metadata": {
    "collapsed": false
   },
   "outputs": [],
   "source": [
    "income['Median Household Income'] = income['Median Household Income'].map(str2num).values\n"
   ]
  },
  {
   "cell_type": "code",
   "execution_count": 66,
   "metadata": {
    "collapsed": true
   },
   "outputs": [],
   "source": [
    "for i in State_County:\n",
    "    State_County[i]['income'] = income[income['county'] == i]['Median Household Income'].values"
   ]
  },
  {
   "cell_type": "markdown",
   "metadata": {},
   "source": [
    "# Graph"
   ]
  },
  {
   "cell_type": "code",
   "execution_count": 67,
   "metadata": {
    "collapsed": false
   },
   "outputs": [],
   "source": [
    "pd_State_County = pd.DataFrame.from_dict(State_County)\n",
    "p = pd_State_County.T"
   ]
  },
  {
   "cell_type": "code",
   "execution_count": 70,
   "metadata": {
    "collapsed": false
   },
   "outputs": [
    {
     "data": {
      "text/html": [
       "<div style=\"max-height:1000px;max-width:1500px;overflow:auto;\">\n",
       "<table border=\"1\" class=\"dataframe\">\n",
       "  <thead>\n",
       "    <tr style=\"text-align: right;\">\n",
       "      <th></th>\n",
       "      <th>APayroll_mean</th>\n",
       "      <th>APayroll_med</th>\n",
       "      <th>APayroll_std</th>\n",
       "      <th>Establishment_mean</th>\n",
       "      <th>Establishment_med</th>\n",
       "      <th>Establishment_std</th>\n",
       "      <th>county_health_exp</th>\n",
       "      <th>income</th>\n",
       "      <th>municipal_health_exp</th>\n",
       "      <th>pov</th>\n",
       "      <th>pov_young</th>\n",
       "      <th>revenue</th>\n",
       "      <th>score</th>\n",
       "      <th>state</th>\n",
       "      <th>zip</th>\n",
       "    </tr>\n",
       "  </thead>\n",
       "  <tbody>\n",
       "    <tr>\n",
       "      <th>abbeville</th>\n",
       "      <td>439.4504</td>\n",
       "      <td>0</td>\n",
       "      <td>3396.292</td>\n",
       "      <td>3.483471</td>\n",
       "      <td>1</td>\n",
       "      <td>6.009115</td>\n",
       "      <td>163330</td>\n",
       "      <td>[36187.0]</td>\n",
       "      <td>1908</td>\n",
       "      <td>[24241.0]</td>\n",
       "      <td>[5389.0]</td>\n",
       "      <td>4260824</td>\n",
       "      <td>[-1]</td>\n",
       "      <td>SC</td>\n",
       "      <td>[29620]</td>\n",
       "    </tr>\n",
       "    <tr>\n",
       "      <th>ada</th>\n",
       "      <td>17689.21</td>\n",
       "      <td>1300</td>\n",
       "      <td>72627.11</td>\n",
       "      <td>39.73702</td>\n",
       "      <td>9</td>\n",
       "      <td>123.34</td>\n",
       "      <td>44739</td>\n",
       "      <td>[53420.0]</td>\n",
       "      <td>8488</td>\n",
       "      <td>[406670.0]</td>\n",
       "      <td>[104953.0]</td>\n",
       "      <td>1022630</td>\n",
       "      <td>[-4, -4, -1, 0]</td>\n",
       "      <td>ID</td>\n",
       "      <td>[83712, 83704, 83706, 83702]</td>\n",
       "    </tr>\n",
       "    <tr>\n",
       "      <th>adair</th>\n",
       "      <td>525.8808</td>\n",
       "      <td>0</td>\n",
       "      <td>2607.1</td>\n",
       "      <td>3.811692</td>\n",
       "      <td>2</td>\n",
       "      <td>7.179755</td>\n",
       "      <td>69497</td>\n",
       "      <td>[47905.0, 31710.0, 35282.0, 31997.0]</td>\n",
       "      <td>105591</td>\n",
       "      <td>[7294.0, 17587.0, 22664.0, 21994.0]</td>\n",
       "      <td>[1612.0, 3795.0, 4608.0, 5843.0]</td>\n",
       "      <td>1793454</td>\n",
       "      <td>[0, 2, -1, 5]</td>\n",
       "      <td>OK</td>\n",
       "      <td>[74960]</td>\n",
       "    </tr>\n",
       "    <tr>\n",
       "      <th>adams</th>\n",
       "      <td>4399.004</td>\n",
       "      <td>0</td>\n",
       "      <td>30176.82</td>\n",
       "      <td>10.05615</td>\n",
       "      <td>2</td>\n",
       "      <td>39.30529</td>\n",
       "      <td>1120699</td>\n",
       "      <td>[54876.0, 37630.0, 43604.0, 48001.0, 44004.0, ...</td>\n",
       "      <td>167436</td>\n",
       "      <td>[464126.0, 3792.0, 64759.0, 34092.0, 3838.0, 2...</td>\n",
       "      <td>[129312.0, 652.0, 14810.0, 10619.0, 788.0, 677...</td>\n",
       "      <td>6107243</td>\n",
       "      <td>[-1, -1, -1, 0, -1, -1, -1, -1, 5, -4, 5, -1, ...</td>\n",
       "      <td>WI</td>\n",
       "      <td>[53934]</td>\n",
       "    </tr>\n",
       "    <tr>\n",
       "      <th>addison</th>\n",
       "      <td>1246.153</td>\n",
       "      <td>0</td>\n",
       "      <td>4887.871</td>\n",
       "      <td>6.69213</td>\n",
       "      <td>2</td>\n",
       "      <td>15.10573</td>\n",
       "      <td>570795.9</td>\n",
       "      <td>[54683.0]</td>\n",
       "      <td>1198</td>\n",
       "      <td>[34189.0]</td>\n",
       "      <td>[6727.0]</td>\n",
       "      <td>18760</td>\n",
       "      <td>[-1]</td>\n",
       "      <td>VT</td>\n",
       "      <td>[5753]</td>\n",
       "    </tr>\n",
       "  </tbody>\n",
       "</table>\n",
       "</div>"
      ],
      "text/plain": [
       "          APayroll_mean APayroll_med APayroll_std Establishment_mean  \\\n",
       "abbeville      439.4504            0     3396.292           3.483471   \n",
       "ada            17689.21         1300     72627.11           39.73702   \n",
       "adair          525.8808            0       2607.1           3.811692   \n",
       "adams          4399.004            0     30176.82           10.05615   \n",
       "addison        1246.153            0     4887.871            6.69213   \n",
       "\n",
       "          Establishment_med Establishment_std county_health_exp  \\\n",
       "abbeville                 1          6.009115            163330   \n",
       "ada                       9            123.34             44739   \n",
       "adair                     2          7.179755             69497   \n",
       "adams                     2          39.30529           1120699   \n",
       "addison                   2          15.10573          570795.9   \n",
       "\n",
       "                                                      income  \\\n",
       "abbeville                                          [36187.0]   \n",
       "ada                                                [53420.0]   \n",
       "adair                   [47905.0, 31710.0, 35282.0, 31997.0]   \n",
       "adams      [54876.0, 37630.0, 43604.0, 48001.0, 44004.0, ...   \n",
       "addison                                            [54683.0]   \n",
       "\n",
       "          municipal_health_exp  \\\n",
       "abbeville                 1908   \n",
       "ada                       8488   \n",
       "adair                   105591   \n",
       "adams                   167436   \n",
       "addison                   1198   \n",
       "\n",
       "                                                         pov  \\\n",
       "abbeville                                          [24241.0]   \n",
       "ada                                               [406670.0]   \n",
       "adair                    [7294.0, 17587.0, 22664.0, 21994.0]   \n",
       "adams      [464126.0, 3792.0, 64759.0, 34092.0, 3838.0, 2...   \n",
       "addison                                            [34189.0]   \n",
       "\n",
       "                                                   pov_young  revenue  \\\n",
       "abbeville                                           [5389.0]  4260824   \n",
       "ada                                               [104953.0]  1022630   \n",
       "adair                       [1612.0, 3795.0, 4608.0, 5843.0]  1793454   \n",
       "adams      [129312.0, 652.0, 14810.0, 10619.0, 788.0, 677...  6107243   \n",
       "addison                                             [6727.0]    18760   \n",
       "\n",
       "                                                       score state  \\\n",
       "abbeville                                               [-1]    SC   \n",
       "ada                                          [-4, -4, -1, 0]    ID   \n",
       "adair                                          [0, 2, -1, 5]    OK   \n",
       "adams      [-1, -1, -1, 0, -1, -1, -1, -1, 5, -4, 5, -1, ...    WI   \n",
       "addison                                                 [-1]    VT   \n",
       "\n",
       "                                    zip  \n",
       "abbeville                       [29620]  \n",
       "ada        [83712, 83704, 83706, 83702]  \n",
       "adair                           [74960]  \n",
       "adams                           [53934]  \n",
       "addison                          [5753]  "
      ]
     },
     "execution_count": 70,
     "metadata": {},
     "output_type": "execute_result"
    }
   ],
   "source": [
    "p.head()"
   ]
  },
  {
   "cell_type": "code",
   "execution_count": null,
   "metadata": {
    "collapsed": false
   },
   "outputs": [],
   "source": [
    "factor_state = {}\n",
    "c = 1\n",
    "for i in sorted(list(set(p.state))):\n",
    "    factor_state[i] = c\n",
    "    c += 1"
   ]
  },
  {
   "cell_type": "code",
   "execution_count": null,
   "metadata": {
    "collapsed": false
   },
   "outputs": [],
   "source": [
    "store = np.zeros(p.shape)\n",
    "for col, i in enumerate(p):\n",
    "    \n",
    "    if i == 'zip':\n",
    "        continue\n",
    "        \n",
    "    for row, ii in enumerate(p[i]):\n",
    "        \n",
    "        if isinstance(ii, numpy.ndarray):\n",
    "            value = ii[ii != 0]\n",
    "            if value.any() == False:\n",
    "                store[row, col] = 0\n",
    "                continue\n",
    "            store[row,col] = np.sum(value)/float(len(value))\n",
    "        elif i == 'state':\n",
    "            store[row, col] = factor_state[ii]\n",
    "        else:\n",
    "            store[row, col] = ii\n",
    "    "
   ]
  },
  {
   "cell_type": "code",
   "execution_count": null,
   "metadata": {
    "collapsed": false
   },
   "outputs": [],
   "source": [
    "p = pd.DataFrame(store[:,:-1],columns = list(p.columns)[:-1])"
   ]
  },
  {
   "cell_type": "code",
   "execution_count": null,
   "metadata": {
    "collapsed": false
   },
   "outputs": [],
   "source": [
    "good = p.score.values < -1\n",
    "bad = p.score.values > 0"
   ]
  },
  {
   "cell_type": "code",
   "execution_count": null,
   "metadata": {
    "collapsed": false
   },
   "outputs": [],
   "source": [
    "p['performance'] = 'nominal'\n",
    "p['performance'][good] = 'better'\n",
    "p['performance'][bad] = 'worse'"
   ]
  },
  {
   "cell_type": "code",
   "execution_count": null,
   "metadata": {
    "collapsed": false
   },
   "outputs": [],
   "source": [
    "Counter(p.performance)"
   ]
  },
  {
   "cell_type": "code",
   "execution_count": null,
   "metadata": {
    "collapsed": false
   },
   "outputs": [],
   "source": [
    "# p.to_csv('./Desktop/feature.csv')\n",
    "# p[p['performance'] != 'nominal'].to_csv('./Desktop/feature_selected.csv')"
   ]
  },
  {
   "cell_type": "code",
   "execution_count": null,
   "metadata": {
    "collapsed": false
   },
   "outputs": [],
   "source": [
    "# payroll = []\n",
    "# rev = []\n",
    "# pov = []\n",
    "# est = []\n",
    "# score = []\n",
    "# hea_mun = []\n",
    "# hea_cou = []\n",
    "# ins_mun = []\n",
    "# ins_cou = []\n",
    "# pov_y = []\n",
    "# inc = []\n",
    "\n",
    "# for i in State_County:\n",
    "# #     print i\n",
    "#     x.append(State_County[i]['APayroll'][0])\n",
    "# #     y.append(State_County[i]['num'].mean())\n",
    "#     s.append(State_County[i]['state'])\n",
    "#     e.append(State_County[i]['Establishment'][0])\n",
    "#     l.append(State_County[i]['score'].mean())\n",
    "#     l_sum.append(median(State_County[i]['score']))\n",
    "#     inc.append(median(State_County[i]['income']))\n",
    "#     p.append(median(State_County[i]['pov']))\n",
    "#     r.append(State_County[i]['revenue'])\n",
    "#     h.append(State_County[i]['health_exp'])\n",
    "    \n",
    "    "
   ]
  },
  {
   "cell_type": "code",
   "execution_count": null,
   "metadata": {
    "collapsed": false
   },
   "outputs": [],
   "source": [
    "# # plt.plot(np.log10(x),np.log10(e),'x')\n",
    "# plt.subplots()\n",
    "# color = {1:'b',2:'r',3:'k'}\n",
    "\n",
    "# for i in np.arange(len(p)):\n",
    "#     if l[i] <= -3:\n",
    "#         c = color[1]\n",
    "#         alpha = 1\n",
    "#     elif l[i] > 0.6:\n",
    "#         c = color[3]\n",
    "#         alpha = 0.5\n",
    "#     else:\n",
    "#         c = color[2]\n",
    "#         alpha = 0.001\n",
    "#     plt.scatter(np.log10(inc[i]),np.log10(p[i]),color = c,alpha = alpha)\n"
   ]
  },
  {
   "cell_type": "markdown",
   "metadata": {},
   "source": [
    "# Prediction "
   ]
  },
  {
   "cell_type": "code",
   "execution_count": 1,
   "metadata": {
    "collapsed": true
   },
   "outputs": [],
   "source": [
    "import Prediction"
   ]
  },
  {
   "cell_type": "code",
   "execution_count": 2,
   "metadata": {
    "collapsed": true
   },
   "outputs": [],
   "source": [
    "a = Prediction.Prediction()\n",
    "a.result()"
   ]
  }
 ],
 "metadata": {
  "kernelspec": {
   "display_name": "Python 2",
   "language": "python",
   "name": "python2"
  },
  "language_info": {
   "codemirror_mode": {
    "name": "ipython",
    "version": 2
   },
   "file_extension": ".py",
   "mimetype": "text/x-python",
   "name": "python",
   "nbconvert_exporter": "python",
   "pygments_lexer": "ipython2",
   "version": "2.7.9"
  }
 },
 "nbformat": 4,
 "nbformat_minor": 0
}
